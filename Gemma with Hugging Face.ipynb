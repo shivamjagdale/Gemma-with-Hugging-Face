{
  "cells": [
    {
      "cell_type": "code",
      "execution_count": 1,
      "metadata": {
        "colab": {
          "base_uri": "https://localhost:8080/"
        },
        "id": "5oRTLmWL2BsA",
        "outputId": "6687aa05-e16d-437b-ce7f-fe84db4202d6"
      },
      "outputs": [
        {
          "name": "stdout",
          "output_type": "stream",
          "text": [
            "Requirement already satisfied: accelerate==0.34.2 in /usr/local/lib/python3.10/dist-packages (from -r requirements.txt (line 1)) (0.34.2)\n",
            "Collecting bitsandbytes==0.44.0 (from -r requirements.txt (line 2))\n",
            "  Downloading bitsandbytes-0.44.0-py3-none-manylinux_2_24_x86_64.whl.metadata (3.5 kB)\n",
            "Collecting transformers==4.45.0 (from -r requirements.txt (line 3))\n",
            "  Downloading transformers-4.45.0-py3-none-any.whl.metadata (44 kB)\n",
            "\u001b[2K     \u001b[90m━━━━━━━━━━━━━━━━━━━━━━━━━━━━━━━━━━━━━━━━\u001b[0m \u001b[32m44.4/44.4 kB\u001b[0m \u001b[31m2.6 MB/s\u001b[0m eta \u001b[36m0:00:00\u001b[0m\n",
            "\u001b[?25hRequirement already satisfied: numpy<3.0.0,>=1.17 in /usr/local/lib/python3.10/dist-packages (from accelerate==0.34.2->-r requirements.txt (line 1)) (1.26.4)\n",
            "Requirement already satisfied: packaging>=20.0 in /usr/local/lib/python3.10/dist-packages (from accelerate==0.34.2->-r requirements.txt (line 1)) (24.1)\n",
            "Requirement already satisfied: psutil in /usr/local/lib/python3.10/dist-packages (from accelerate==0.34.2->-r requirements.txt (line 1)) (5.9.5)\n",
            "Requirement already satisfied: pyyaml in /usr/local/lib/python3.10/dist-packages (from accelerate==0.34.2->-r requirements.txt (line 1)) (6.0.2)\n",
            "Requirement already satisfied: torch>=1.10.0 in /usr/local/lib/python3.10/dist-packages (from accelerate==0.34.2->-r requirements.txt (line 1)) (2.4.1+cu121)\n",
            "Requirement already satisfied: huggingface-hub>=0.21.0 in /usr/local/lib/python3.10/dist-packages (from accelerate==0.34.2->-r requirements.txt (line 1)) (0.24.7)\n",
            "Requirement already satisfied: safetensors>=0.4.3 in /usr/local/lib/python3.10/dist-packages (from accelerate==0.34.2->-r requirements.txt (line 1)) (0.4.5)\n",
            "Requirement already satisfied: filelock in /usr/local/lib/python3.10/dist-packages (from transformers==4.45.0->-r requirements.txt (line 3)) (3.16.1)\n",
            "Requirement already satisfied: regex!=2019.12.17 in /usr/local/lib/python3.10/dist-packages (from transformers==4.45.0->-r requirements.txt (line 3)) (2024.9.11)\n",
            "Requirement already satisfied: requests in /usr/local/lib/python3.10/dist-packages (from transformers==4.45.0->-r requirements.txt (line 3)) (2.32.3)\n",
            "Collecting tokenizers<0.21,>=0.20 (from transformers==4.45.0->-r requirements.txt (line 3))\n",
            "  Downloading tokenizers-0.20.0-cp310-cp310-manylinux_2_17_x86_64.manylinux2014_x86_64.whl.metadata (6.7 kB)\n",
            "Requirement already satisfied: tqdm>=4.27 in /usr/local/lib/python3.10/dist-packages (from transformers==4.45.0->-r requirements.txt (line 3)) (4.66.5)\n",
            "Requirement already satisfied: fsspec>=2023.5.0 in /usr/local/lib/python3.10/dist-packages (from huggingface-hub>=0.21.0->accelerate==0.34.2->-r requirements.txt (line 1)) (2024.6.1)\n",
            "Requirement already satisfied: typing-extensions>=3.7.4.3 in /usr/local/lib/python3.10/dist-packages (from huggingface-hub>=0.21.0->accelerate==0.34.2->-r requirements.txt (line 1)) (4.12.2)\n",
            "Requirement already satisfied: sympy in /usr/local/lib/python3.10/dist-packages (from torch>=1.10.0->accelerate==0.34.2->-r requirements.txt (line 1)) (1.13.3)\n",
            "Requirement already satisfied: networkx in /usr/local/lib/python3.10/dist-packages (from torch>=1.10.0->accelerate==0.34.2->-r requirements.txt (line 1)) (3.3)\n",
            "Requirement already satisfied: jinja2 in /usr/local/lib/python3.10/dist-packages (from torch>=1.10.0->accelerate==0.34.2->-r requirements.txt (line 1)) (3.1.4)\n",
            "Requirement already satisfied: charset-normalizer<4,>=2 in /usr/local/lib/python3.10/dist-packages (from requests->transformers==4.45.0->-r requirements.txt (line 3)) (3.3.2)\n",
            "Requirement already satisfied: idna<4,>=2.5 in /usr/local/lib/python3.10/dist-packages (from requests->transformers==4.45.0->-r requirements.txt (line 3)) (3.10)\n",
            "Requirement already satisfied: urllib3<3,>=1.21.1 in /usr/local/lib/python3.10/dist-packages (from requests->transformers==4.45.0->-r requirements.txt (line 3)) (2.2.3)\n",
            "Requirement already satisfied: certifi>=2017.4.17 in /usr/local/lib/python3.10/dist-packages (from requests->transformers==4.45.0->-r requirements.txt (line 3)) (2024.8.30)\n",
            "Requirement already satisfied: MarkupSafe>=2.0 in /usr/local/lib/python3.10/dist-packages (from jinja2->torch>=1.10.0->accelerate==0.34.2->-r requirements.txt (line 1)) (2.1.5)\n",
            "Requirement already satisfied: mpmath<1.4,>=1.1.0 in /usr/local/lib/python3.10/dist-packages (from sympy->torch>=1.10.0->accelerate==0.34.2->-r requirements.txt (line 1)) (1.3.0)\n",
            "Downloading bitsandbytes-0.44.0-py3-none-manylinux_2_24_x86_64.whl (122.4 MB)\n",
            "\u001b[2K   \u001b[90m━━━━━━━━━━━━━━━━━━━━━━━━━━━━━━━━━━━━━━━━\u001b[0m \u001b[32m122.4/122.4 MB\u001b[0m \u001b[31m6.9 MB/s\u001b[0m eta \u001b[36m0:00:00\u001b[0m\n",
            "\u001b[?25hDownloading transformers-4.45.0-py3-none-any.whl (9.9 MB)\n",
            "\u001b[2K   \u001b[90m━━━━━━━━━━━━━━━━━━━━━━━━━━━━━━━━━━━━━━━━\u001b[0m \u001b[32m9.9/9.9 MB\u001b[0m \u001b[31m53.6 MB/s\u001b[0m eta \u001b[36m0:00:00\u001b[0m\n",
            "\u001b[?25hDownloading tokenizers-0.20.0-cp310-cp310-manylinux_2_17_x86_64.manylinux2014_x86_64.whl (2.9 MB)\n",
            "\u001b[2K   \u001b[90m━━━━━━━━━━━━━━━━━━━━━━━━━━━━━━━━━━━━━━━━\u001b[0m \u001b[32m2.9/2.9 MB\u001b[0m \u001b[31m63.0 MB/s\u001b[0m eta \u001b[36m0:00:00\u001b[0m\n",
            "\u001b[?25hInstalling collected packages: tokenizers, bitsandbytes, transformers\n",
            "  Attempting uninstall: tokenizers\n",
            "    Found existing installation: tokenizers 0.19.1\n",
            "    Uninstalling tokenizers-0.19.1:\n",
            "      Successfully uninstalled tokenizers-0.19.1\n",
            "  Attempting uninstall: transformers\n",
            "    Found existing installation: transformers 4.44.2\n",
            "    Uninstalling transformers-4.44.2:\n",
            "      Successfully uninstalled transformers-4.44.2\n",
            "Successfully installed bitsandbytes-0.44.0 tokenizers-0.20.0 transformers-4.45.0\n"
          ]
        }
      ],
      "source": [
        "!pip install -r requirements.txt"
      ]
    },
    {
      "cell_type": "code",
      "execution_count": 2,
      "metadata": {
        "id": "xMNy3mVS2oZ6"
      },
      "outputs": [],
      "source": [
        "import os\n",
        "import torch\n",
        "\n",
        "from transformers import (AutoTokenizer, AutoModelForCausalLM)"
      ]
    },
    {
      "cell_type": "code",
      "execution_count": 3,
      "metadata": {
        "id": "8B_pnk-Q23Gq"
      },
      "outputs": [],
      "source": [
        "os.environ[\"HF_TOKEN\"] = \"your_token_here\""
      ]
    },
    {
      "cell_type": "code",
      "execution_count": 4,
      "metadata": {
        "id": "JMlEbd7-27zA"
      },
      "outputs": [],
      "source": [
        "model_name=\"google/gemma-2b-it\""
      ]
    },
    {
      "cell_type": "markdown",
      "metadata": {
        "id": "Ucjd6Q4a3Zub"
      },
      "source": [
        "# **Loading the tokenizer and the model**"
      ]
    },
    {
      "cell_type": "code",
      "execution_count": 5,
      "metadata": {
        "colab": {
          "base_uri": "https://localhost:8080/",
          "height": 145,
          "referenced_widgets": [
            "2599aec1e7844cc0a46befaa9b3cfd80",
            "135edcf5b53b4990b6c03f8902a62041",
            "9a7c76bbea034d11a613e236fdfcf7c9",
            "92d30f04ecbf4ea188551a2576780281",
            "151107f6ea124bc69c2563d08c9c2a53",
            "1dd2f45ea9d7481fb84317f16ef24ab9",
            "c37c41fc7d7546f4b04efc22f78c0df7",
            "3056b57306d14a359341994c333edab6",
            "d48be0726edd4c949fd99367e6d9fc74",
            "c4539851cf384272bf1918350e9ce779",
            "7397f9e614414b21b6795da13743e05b",
            "eb2bd723c86845d488325927e674f548",
            "c1f65d7d63124c30b4de8d140bccc982",
            "77e706d1efa342708f6cc2cd108e653e",
            "1c334575903644fdb0f02a1912b3fe7b",
            "9513575924fb4e09811368a166772b76",
            "6857e1eae30141fbbc93fbb956547a20",
            "f9bc250a44714f02af8f6dec30bb78c2",
            "c5621c4f8899401f835680b4f225aa46",
            "ebbd63343e3c4f7c995c17771189045d",
            "b427f52ce7c9430fbf25c64ad6dbd5f3",
            "f7f800df8f634627a6b4fc1eefc99519",
            "bfbd2c8d468347b8bc51cc5dd6495f07",
            "60fc65011ebe451a9dcc7edcb1c2e544",
            "f6bcd48e85494787ab2308c2ad2fabe1",
            "2ca3d9a3d31e49bab9302eaa67dbda49",
            "c1e7786e4fb74e89ada996b0430f9db9",
            "9f1a0c37f1844681bfbd8f24e3a2d430",
            "ca7e2d43a8474106ab2c63a48eeea2cb",
            "6fe04135db14494d9cf46422ee228aac",
            "0cb94c63b7e64722b29eb86660ee7cd6",
            "a815474c9d574113b183aa97bc6e022a",
            "fbfe92eab622445ebbf21f7f4813d45c",
            "2e5e1ad7e16441d5897b24abc2d2ff0d",
            "caa9ba60786a47ceaa5478c5ee8b890b",
            "9f7f54644e534ed5b369b4cc1bd29038",
            "911a9935fd1b44908e633b43a8d41c03",
            "1aa42d58d6a44005acda9ff575a83b14",
            "0f6557005b254496ad95876b804dbef4",
            "329db929c245496cbfab7e8b5ea444f3",
            "9464aae016a34ecf941a27fe9bec561f",
            "36d99cabdf854a1da413c106e51e6f30",
            "c2d2ed13aad645b49241b6444354d93e",
            "2c3ad20fa85649a9b220402a563d364c"
          ]
        },
        "id": "t26yE8kO3ZHg",
        "outputId": "89b5a439-a00a-4961-a004-189c0e51457f"
      },
      "outputs": [
        {
          "data": {
            "application/vnd.jupyter.widget-view+json": {
              "model_id": "2599aec1e7844cc0a46befaa9b3cfd80",
              "version_major": 2,
              "version_minor": 0
            },
            "text/plain": [
              "tokenizer_config.json:   0%|          | 0.00/34.2k [00:00<?, ?B/s]"
            ]
          },
          "metadata": {},
          "output_type": "display_data"
        },
        {
          "data": {
            "application/vnd.jupyter.widget-view+json": {
              "model_id": "eb2bd723c86845d488325927e674f548",
              "version_major": 2,
              "version_minor": 0
            },
            "text/plain": [
              "tokenizer.model:   0%|          | 0.00/4.24M [00:00<?, ?B/s]"
            ]
          },
          "metadata": {},
          "output_type": "display_data"
        },
        {
          "data": {
            "application/vnd.jupyter.widget-view+json": {
              "model_id": "bfbd2c8d468347b8bc51cc5dd6495f07",
              "version_major": 2,
              "version_minor": 0
            },
            "text/plain": [
              "tokenizer.json:   0%|          | 0.00/17.5M [00:00<?, ?B/s]"
            ]
          },
          "metadata": {},
          "output_type": "display_data"
        },
        {
          "data": {
            "application/vnd.jupyter.widget-view+json": {
              "model_id": "2e5e1ad7e16441d5897b24abc2d2ff0d",
              "version_major": 2,
              "version_minor": 0
            },
            "text/plain": [
              "special_tokens_map.json:   0%|          | 0.00/636 [00:00<?, ?B/s]"
            ]
          },
          "metadata": {},
          "output_type": "display_data"
        }
      ],
      "source": [
        "tokenizer = AutoTokenizer.from_pretrained(model_name)"
      ]
    },
    {
      "cell_type": "code",
      "execution_count": 9,
      "metadata": {
        "colab": {
          "base_uri": "https://localhost:8080/",
          "height": 150,
          "referenced_widgets": [
            "f43f6845c8b24f0db6171f973de15335",
            "e69a0331d44c4bb6b0c06d813250440a",
            "6af97e803e3749ce947ee988bbf94b25",
            "be3d04dda3384ae98efdbf0b4e0c6152",
            "494dfee6a9ab4f1cab6d98ce4f982200",
            "e0908111916c4f55bfaedb5c3a53c060",
            "ffda50c961434e499a461870e6cc84c1",
            "2a0a14ea119e4b6d83cb27e6e328845b",
            "993e8b4f389e4997997fc319ea9902ba",
            "f0a721f7b7954f1099e3b8ec4e161d63",
            "611abaa9a0a24e3bb617e02e61a4b89e",
            "8e5448ab705e49b9886026a5ed2110e6",
            "2e8848d4821e41c9a68792f455c8456b",
            "dc593bfa04ed4c4c9d474e58057d5aa9",
            "3c08de08cb03404bbbb517c8076fa149",
            "ad3cced35f274593b9bf794c8ea7451a",
            "6c485e58a11440bda970976c0ea0e43b",
            "5bdd206d4b6c4bb6a2dabaaeb5f70a4f",
            "83cd59c74be342c0aa781958707eb82f",
            "f5e40997d5db4110a62301dd2fb04a50",
            "f5b7ca09285d42a6a03167ab50c74103",
            "84d762105aed4cfc9cc3a2ba6ac6b090"
          ]
        },
        "id": "xIvkH7te3Asp",
        "outputId": "d942de19-84af-4542-da96-7d88be25371a"
      },
      "outputs": [
        {
          "name": "stderr",
          "output_type": "stream",
          "text": [
            "`config.hidden_act` is ignored, you should use `config.hidden_activation` instead.\n",
            "Gemma's activation function will be set to `gelu_pytorch_tanh`. Please, use\n",
            "`config.hidden_activation` if you want to override this behaviour.\n",
            "See https://github.com/huggingface/transformers/pull/29402 for more details.\n"
          ]
        },
        {
          "data": {
            "application/vnd.jupyter.widget-view+json": {
              "model_id": "f43f6845c8b24f0db6171f973de15335",
              "version_major": 2,
              "version_minor": 0
            },
            "text/plain": [
              "Loading checkpoint shards:   0%|          | 0/2 [00:00<?, ?it/s]"
            ]
          },
          "metadata": {},
          "output_type": "display_data"
        },
        {
          "data": {
            "application/vnd.jupyter.widget-view+json": {
              "model_id": "8e5448ab705e49b9886026a5ed2110e6",
              "version_major": 2,
              "version_minor": 0
            },
            "text/plain": [
              "generation_config.json:   0%|          | 0.00/137 [00:00<?, ?B/s]"
            ]
          },
          "metadata": {},
          "output_type": "display_data"
        }
      ],
      "source": [
        "model = AutoModelForCausalLM.from_pretrained(model_name, device_map=\"auto\", torch_dtype=torch.bfloat16)"
      ]
    },
    {
      "cell_type": "markdown",
      "metadata": {
        "id": "q1QgFq3N31Pg"
      },
      "source": [
        "# **Asking the model a question**"
      ]
    },
    {
      "cell_type": "code",
      "execution_count": 10,
      "metadata": {
        "id": "it7EWlsH3zqP"
      },
      "outputs": [],
      "source": [
        "prompt = \"what is machine learning?\""
      ]
    },
    {
      "cell_type": "code",
      "execution_count": 14,
      "metadata": {
        "id": "3ps1ddFI37qD"
      },
      "outputs": [],
      "source": [
        "token = tokenizer(prompt, return_tensors=\"pt\").to(\"cuda\")"
      ]
    },
    {
      "cell_type": "code",
      "execution_count": 15,
      "metadata": {
        "colab": {
          "base_uri": "https://localhost:8080/"
        },
        "id": "UUs9_M0z4Xx4",
        "outputId": "0f900862-a141-4b90-93f4-990718466652"
      },
      "outputs": [
        {
          "name": "stderr",
          "output_type": "stream",
          "text": [
            "Starting from v4.46, the `logits` model output will have the same type as the model (except at train time, where it will always be FP32)\n"
          ]
        }
      ],
      "source": [
        "response = model.generate(**token, max_new_tokens=512)"
      ]
    },
    {
      "cell_type": "code",
      "execution_count": 16,
      "metadata": {
        "colab": {
          "base_uri": "https://localhost:8080/"
        },
        "id": "pbeYQfTp4ehX",
        "outputId": "3b2934f4-38d9-4f51-a0c4-54a61629c26b"
      },
      "outputs": [
        {
          "data": {
            "text/plain": [
              "tensor([[     2,   5049,    603,   6479,   6044, 235336,    109,  24911,   6044,\n",
              "            591,   3939, 235275,    603,    476,   1334,   2863,    576,  18225,\n",
              "          17273,    591,  11716, 235275,    674,  25039,  25175,    577,   3918,\n",
              "            774,   1423,   2346,  19303,  19991, 235265,   1417,   8563,  15051,\n",
              "            577,   4771,   1024,   4665,   1163,   1069,   1593,    476,   2185,\n",
              "           3151,   5231,  23435, 168428,    109,    688,   4858, 235303, 235256,\n",
              "           1368,    665,   3598,  66058,    109, 235274, 235265,   5231,   1510,\n",
              "          12988,  66058,    714,   1423,    603,  22024, 235269,  31010, 235269,\n",
              "            578,  30003,   1280,    476,   5920,    674,    573,   6479,    798,\n",
              "           3508, 235265,    108, 235284, 235265,   5231,   2494,   8492,  66058,\n",
              "          28398,   6479,   6044,  28514,    708,  12228,   3482,    611,    573,\n",
              "           1916,    576,   1423,    578,    573,   3210,    577,    614,  23895,\n",
              "         235265,    108, 235304, 235265,   5231,  27985,  66058,    714,   1423,\n",
              "            603,  19568,   1280,    573,   2091, 235269,    948,  59938,    573,\n",
              "          12136,    578,  12733,   2819,    665, 235265,    108, 235310, 235265,\n",
              "           5231,  36678,  66058,    714,  17363,   2091,    603,  12272,    611,\n",
              "          76926,   1423,    577,   7535,   1277,  14998,    578,   4665, 235265,\n",
              "            108, 235308, 235265,   5231,  82387,  66058,    714,   2091,    603,\n",
              "          40598,    578,   9894,   3482,    611,    573,  13167,   3190, 235269,\n",
              "            578,    573,   2185,  11207,   1653, 235265,    109,    688,  27340,\n",
              "            576,   6479,   6044,  66058,    109, 235287,   5231,   4122,  64586,\n",
              "          13333,  66058,  29762,    798,  94927,  71418,  13333, 235269,  17167,\n",
              "           1069,    578,   6336, 235265,    108, 235287,   5231,   1510, 235290,\n",
              "          37372,  27938,  66058,  29762,    798,  92958,   5915,  12136,    578,\n",
              "          27938,    774,   2910,  47927, 235265,    108, 235287,   5231,  83799,\n",
              "           4530, 235290,  14577,  66058,  29762,    798,   3658,  27938,    578,\n",
              "          15897,   3482,    611,   1423,   4084, 235265,    108, 235287,   5231,\n",
              "          98748,   6650,  12219,  66058,  29762,    798, 104278,   3773,    578,\n",
              "           3545,   3482,    611,   3811,  22733, 235265,    109,    688,   6882,\n",
              "            576,   6479,   6044,  66058,    109, 235287,   5231,   8437,   9470,\n",
              "           6044,  66058,    714,   2091,    603,  17363,    611,  36694,   1423,\n",
              "         235269,   1570,   1853,   1423,   2377,    919,    476,   3836,  17526,\n",
              "         235265,    108, 235287,   5231,  18808,  55760,   9470,   6044,  66058,\n",
              "            714,   2091,  85012,  12136,    578,  12733,    575,    748,  78253,\n",
              "           1423, 235265,    108, 235287,   5231,  58167, 235290, 122612,   6044,\n",
              "          66058,    586,  11137,    576,  36694,    578,    748,  78253,   1423,\n",
              "            603,   1671, 235265,    109,    688,  35940,    576,   6479,   6044,\n",
              "          66058,    109, 235287,   5231,   3115,  16398,    688,    108, 235287,\n",
              "           5231,  29579,   5255,  10310,    688,    108, 235287,   5231, 143802,\n",
              "          16819,    688,    108, 235287,   5231,  12828,  69390,    688,    108,\n",
              "         235287,   5231,  35701,  19491,    688,    109,    688,  24911,   6044,\n",
              "            603,    476,  16896,  54750,   2725,    675,  12404,   8557,   4492,\n",
              "           4282,  17125, 235265,   1165,    919,    573,   5736,    577,  15693,\n",
              "            889,   1368,    783,   3685, 235269,   1160, 235269,    578,  22557,\n",
              "            675,    573,   2134, 116742,      1]], device='cuda:0')"
            ]
          },
          "execution_count": 16,
          "metadata": {},
          "output_type": "execute_result"
        }
      ],
      "source": [
        "response"
      ]
    },
    {
      "cell_type": "code",
      "execution_count": 17,
      "metadata": {
        "id": "qLsDb-HP4qAP"
      },
      "outputs": [],
      "source": [
        "output = tokenizer.decode(response[0])"
      ]
    },
    {
      "cell_type": "code",
      "execution_count": 18,
      "metadata": {
        "colab": {
          "base_uri": "https://localhost:8080/"
        },
        "id": "M1CcJar24tzn",
        "outputId": "e3c8f4d7-8d20-41b5-a79e-df429c2e00ea"
      },
      "outputs": [
        {
          "name": "stdout",
          "output_type": "stream",
          "text": [
            "<bos>what is machine learning?\n",
            "\n",
            "Machine learning (ML) is a subfield of artificial intelligence (AI) that enables computers to learn from data without explicit programming. This allows machines to improve their performance over time through a process called **training**.\n",
            "\n",
            "**Here's how it works:**\n",
            "\n",
            "1. **Data preparation:** The data is gathered, cleaned, and transformed into a format that the machine can understand.\n",
            "2. **Model selection:** Different machine learning algorithms are chosen based on the type of data and the problem to be solved.\n",
            "3. **Training:** The data is fed into the model, which learns the patterns and relationships within it.\n",
            "4. **Evaluation:** The trained model is tested on unseen data to assess its accuracy and performance.\n",
            "5. **Iteration:** The model is refined and updated based on the evaluation results, and the process starts again.\n",
            "\n",
            "**Benefits of machine learning:**\n",
            "\n",
            "* **Automating tasks:** ML can automate repetitive tasks, saving time and resources.\n",
            "* **Data-driven insights:** ML can uncover hidden patterns and insights from large datasets.\n",
            "* **Improved decision-making:** ML can provide insights and recommendations based on data analysis.\n",
            "* **Enhanced customer experiences:** ML can personalize products and services based on individual preferences.\n",
            "\n",
            "**Types of machine learning:**\n",
            "\n",
            "* **Supervised learning:** The model is trained on labeled data, where each data point has a known outcome.\n",
            "* **Unsupervised learning:** The model discovers patterns and relationships in unlabeled data.\n",
            "* **Semi-supervised learning:** A combination of labeled and unlabeled data is used.\n",
            "\n",
            "**Applications of machine learning:**\n",
            "\n",
            "* **Image recognition**\n",
            "* **Natural language processing**\n",
            "* **Fraud detection**\n",
            "* **Customer segmentation**\n",
            "* **Medical diagnosis**\n",
            "\n",
            "**Machine learning is a rapidly evolving field with numerous applications across various industries. It has the potential to revolutionize how we live, work, and interact with the world.**<eos>\n"
          ]
        }
      ],
      "source": [
        "print(output)"
      ]
    },
    {
      "cell_type": "markdown",
      "metadata": {
        "id": "UH9sqCMM4wBf"
      },
      "source": [
        "# **Now chat template**"
      ]
    },
    {
      "cell_type": "code",
      "execution_count": 19,
      "metadata": {
        "id": "IhbTxOxz4u6g"
      },
      "outputs": [],
      "source": [
        "chat = [{\"role\":\"user\", \"content\":\"Write a program in python to print hello world\"}]"
      ]
    },
    {
      "cell_type": "code",
      "execution_count": 30,
      "metadata": {
        "id": "tvPDTlYpD2Dl"
      },
      "outputs": [],
      "source": [
        "text = chat[0][\"content\"]"
      ]
    },
    {
      "cell_type": "code",
      "execution_count": 31,
      "metadata": {
        "id": "hQV0mIoO5FNf"
      },
      "outputs": [],
      "source": [
        "token = tokenizer.apply_chat_template(chat, add_generation_prompt=True, tokenize=False)"
      ]
    },
    {
      "cell_type": "code",
      "execution_count": 36,
      "metadata": {
        "id": "Cx1JEm395bNf"
      },
      "outputs": [],
      "source": [
        "input_ids = tokenizer.encode(token, add_special_tokens=False, return_tensors=\"pt\").to(\"cuda\")"
      ]
    },
    {
      "cell_type": "code",
      "execution_count": 38,
      "metadata": {
        "id": "IWXCfDsw9BW_"
      },
      "outputs": [],
      "source": [
        "output = model.generate(input_ids=input_ids, max_new_tokens=512)"
      ]
    },
    {
      "cell_type": "code",
      "execution_count": 39,
      "metadata": {
        "colab": {
          "base_uri": "https://localhost:8080/"
        },
        "id": "zBG7paeT9Fzm",
        "outputId": "50b13e7b-eb16-481c-bbb5-12fb6a95dc34"
      },
      "outputs": [
        {
          "data": {
            "text/plain": [
              "tensor([[     2,    106,   1645,    108,   5559,    476,   2733,    575,  17706,\n",
              "            577,   4152,  25612,   2134,    107,    108,    106,   2516,    108,\n",
              "           1917,   7774,    108,   1431,    885,   4521,   2134,  47347,    108,\n",
              "           1917,    109,    688,   6140,  66058,    109,   1917,    108,   4521,\n",
              "           2134, 235341,    108,   1917,    109,    688,  32729,  66058,    109,\n",
              "         235287,   4103,   1431, 114970,    603,    476,   6233, 235290,    473,\n",
              "          21237,   1411,    674,  26371,    573,   2764,   9916,    577,    573,\n",
              "          10647, 235265,    108, 235287,   4103, 235281,   4521,   2134,   4496,\n",
              "         235376,    603,    573,   2067,    674,    783,   1938,    577,   4152,\n",
              "         235265,    108, 235287,    714,   4103,   1431, 114970,   1411,    877,\n",
              "           2409,    573,   4103,    905,   1149,  52106, 235376,   2370,    576,\n",
              "            573,   2067,   4018,    577,   5920,    665,    604,  17320, 235265,\n",
              "            108, 235287,    714,   4103,    905,   1149,  52106, 235376,   2370,\n",
              "           8753,    573,   2067,    675,    573,   4103,   4521,   2134, 235341,\n",
              "         235376,   3969, 235265,    109,    688,   5041,  66058,    109, 235287,\n",
              "            714,   4103,   1431, 114970,   1411,    798,   1170,   1987,   6733,\n",
              "          12558, 235269,    948,    877,    614,  19597,    731,  14130, 235265,\n",
              "            108, 235287,   1646,    798,   1170,   1281,    573,   4103, 235286,\n",
              "         235254, 235376,   3285,    577,  14455,    476, 130942,   3285,    575,\n",
              "            573,   5033, 235265,      1]], device='cuda:0')"
            ]
          },
          "execution_count": 39,
          "metadata": {},
          "output_type": "execute_result"
        }
      ],
      "source": [
        "output"
      ]
    },
    {
      "cell_type": "code",
      "execution_count": 41,
      "metadata": {
        "id": "7nymrrWV9GgX"
      },
      "outputs": [],
      "source": [
        "response = tokenizer.decode(output[0])"
      ]
    },
    {
      "cell_type": "code",
      "execution_count": 42,
      "metadata": {
        "colab": {
          "base_uri": "https://localhost:8080/"
        },
        "id": "jJ_j8f4iBqfk",
        "outputId": "759b7dec-6b17-43d9-aaaa-f10540421253"
      },
      "outputs": [
        {
          "name": "stdout",
          "output_type": "stream",
          "text": [
            "<bos><start_of_turn>user\n",
            "Write a program in python to print hello world<end_of_turn>\n",
            "<start_of_turn>model\n",
            "```python\n",
            "print(\"Hello world!\")\n",
            "```\n",
            "\n",
            "**Output:**\n",
            "\n",
            "```\n",
            "Hello world!\n",
            "```\n",
            "\n",
            "**Explanation:**\n",
            "\n",
            "* `print()` is a built-in Python function that prints the given argument to the console.\n",
            "* `\"Hello world!\"` is the string that we want to print.\n",
            "* The `print()` function will call the `__str__()` method of the string object to format it for printing.\n",
            "* The `__str__()` method returns the string with the `Hello world!` message.\n",
            "\n",
            "**Note:**\n",
            "\n",
            "* The `print()` function can also take multiple arguments, which will be separated by spaces.\n",
            "* You can also use the `\\n` character to insert a newline character in the output.<eos>\n"
          ]
        }
      ],
      "source": [
        "print(response)"
      ]
    },
    {
      "cell_type": "markdown",
      "metadata": {
        "id": "8QJCKNnVFTgG"
      },
      "source": [
        "# **Now asking the model for a complex code **"
      ]
    },
    {
      "cell_type": "code",
      "execution_count": 43,
      "metadata": {
        "id": "3T4-lQtJFZ46"
      },
      "outputs": [],
      "source": [
        "chat = [{\"role\":\"user\", \"content\":\"Write a program to train logistic regression model\"}]"
      ]
    },
    {
      "cell_type": "code",
      "execution_count": 44,
      "metadata": {
        "id": "buEkBlNGFZ47"
      },
      "outputs": [],
      "source": [
        "text = chat[0][\"content\"]"
      ]
    },
    {
      "cell_type": "code",
      "execution_count": 45,
      "metadata": {
        "id": "R02P-_IVFZ47"
      },
      "outputs": [],
      "source": [
        "token = tokenizer.apply_chat_template(chat, add_generation_prompt=True, tokenize=False)"
      ]
    },
    {
      "cell_type": "code",
      "execution_count": 46,
      "metadata": {
        "id": "H_l9eHbTFZ47"
      },
      "outputs": [],
      "source": [
        "input_ids = tokenizer.encode(token, add_special_tokens=False, return_tensors=\"pt\").to(\"cuda\")"
      ]
    },
    {
      "cell_type": "code",
      "execution_count": 47,
      "metadata": {
        "id": "jvVNKA-ZFZ47"
      },
      "outputs": [],
      "source": [
        "output = model.generate(input_ids=input_ids, max_new_tokens=512)"
      ]
    },
    {
      "cell_type": "code",
      "execution_count": 48,
      "metadata": {
        "colab": {
          "base_uri": "https://localhost:8080/"
        },
        "id": "IHEdTQ6NFZ47",
        "outputId": "4675235c-989a-4e04-da2a-c5199966fc7c"
      },
      "outputs": [
        {
          "data": {
            "text/plain": [
              "tensor([[     2,    106,   1645,    108,   5559,    476,   2733,    577,   6588,\n",
              "          77606,  26221,   2091,    107,    108,    106,   2516,    108,   1917,\n",
              "           7774,    108,    809,  26103,    685,  15395,    108,    809,  13168,\n",
              "            685,   5677,    108,   2273,  40296, 235265,   2516, 235298,  25159,\n",
              "           1635,   6588, 235298,   2195, 235298,   6860,    108,   2273,  40296,\n",
              "         235265,  15842, 235298,   2516,   1635, 133205,  64384,    108,   2273,\n",
              "          40296, 235265,  30918,   1635,  14998, 235298,   9439,    109, 235345,\n",
              "          17284,    573,   1423,    108,   1259,    589,  15395, 235265,   1229,\n",
              "         235298,  14019,   1101,   1259, 235265,  14019,   1685,    109, 235345,\n",
              "          36231,    573,   1423,   1280,   4770,    578,   8603,   9032,    108,\n",
              "         235356, 235298,   8297, 235269,   1576, 235298,   2195, 235269,    597,\n",
              "         235298,   8297, 235269,    597, 235298,   2195,    589,   6588, 235298,\n",
              "           2195, 235298,   6860, 235278,   1259, 235265,   9188,   1101,   5136,\n",
              "            920,  13236, 235293, 235274,    823,   1423,   1829,   5136,   7525,\n",
              "           2121, 235298,   1934, 235293, 235276, 235265, 235284, 235269,   6253,\n",
              "         235298,   2626, 235293, 235310, 235284, 235275,    109, 235345,   7319,\n",
              "            573,  77606,  26221,   2091,    108,   2516,    589, 133205,  64384,\n",
              "            645,    109, 235345,  23098,    573,   2091,    108,   2516, 235265,\n",
              "           4843, 235278, 235356, 235298,   8297, 235269,    597, 235298,   8297,\n",
              "         235275,    109, 235345,  64755,    573,   2091,    611,    573,   8603,\n",
              "           1142,    108, 235267, 235298,   9814,    589,   2091, 235265,  33475,\n",
              "         235278, 235356, 235298,   2195, 235275,    108,  45648,    589,  14998,\n",
              "         235298,   9439, 235278, 235267, 235298,   2195, 235269,    597, 235298,\n",
              "           9814, 235275,    108,   1431,   1101,  56721,  38939,  14998, 235275,\n",
              "            109, 235345,  13182,   1009,   2113,   1105,    573,   2091,    108,\n",
              "           1431,   1101,  11281, 102608,    108,   1431, 235278,   2516, 235265,\n",
              "          74785,  28432,    108,   1431,   1101, 143704,  38939,   2091, 235265,\n",
              "          90033,  28432,    109, 235345,  14061,    573,   2091,    604,   3936,\n",
              "           1281,    108,   2516, 235265,   5288,   1101, 194876, 235298, 116143,\n",
              "         235298,   2516, 235265, 110307,   1685,    108,   1917,    109,    688,\n",
              "           1259, 235265,  14019,    688,   1412,   2888,    476,  59224,   2482,\n",
              "            675,    573,   2412,  15130, 235292,    109, 235287,   5231,  14179,\n",
              "         235298, 235274,    688,    108, 235287,   5231,  14179, 235298, 235284,\n",
              "            688,    108, 235287,   5231,  14179, 235298, 235304,    688,    108,\n",
              "         235287,   5231,   5136,    688,    109,    688,  34184,  66058,    109,\n",
              "         235274, 235265,  45965,   5231,   1259, 235265,  14019,    688,    675,\n",
              "            573,   5579,   3703,    577,    861,   1423,   2482, 235265,    108,\n",
              "         235284, 235265,  45409,    674,    573,   5231,   5136,    688,   7590,\n",
              "           7744,  20531,  17737,    591, 235276,    689, 235248, 235274,    846,\n",
              "            108, 235304, 235265,   7577,    573,  12041, 235265,    109,    688,\n",
              "           6140,  66058,    109,    651,   2733,    877,   4152,    573,   2412,\n",
              "           5033, 235292,    109,   1917,    108,  56721, 235292, 235248, 235276,\n",
              "         235265, 235321, 235308,    108,  11281, 235292,    892, 235248, 235276,\n",
              "         235265, 235284, 235304, 235310, 235308, 235318, 235324, 235321, 235315,\n",
              "            728, 235276, 235265, 235308, 235318, 235324, 235321, 235315, 235276,\n",
              "         235274, 235284, 235307,    108, 143704, 235292, 235248, 235276, 235265,\n",
              "         235304, 235310, 235308, 235318, 235324, 235321, 235315,    108,   1917,\n",
              "            109,   1596,  14939,    674,    573,   2091,  96162,    671,  14998,\n",
              "            576, 235248, 235276, 235265, 235321, 235308,    611,    573,   8603,\n",
              "           1142, 235265,    109,    688,   5041,  66058,    109, 235287,    714,\n",
              "           5231,   2195, 235298,   1934,    688,  11019,    575,    573,   4103,\n",
              "           8297, 235298,   2195, 235298,   6860, 235376,   1411,  13753,    573,\n",
              "           2395,    576,    573,   8603,   1142, 235265,    878,    736,   3287,\n",
              "         235269, 235248, 235284, 235276, 235358,    576,    573,   1423,    603,\n",
              "           1142,  16864,    685,    573,   8603,   1142, 235265,    108, 235287,\n",
              "            714,   5231,   2516, 235265,   5288, 114970,   1411,  35176,    573,\n",
              "          17363,   2091,    604,   3936,   1281, 235265,    108, 235287,   1646,\n",
              "            798,   1281,    573,  10684,   2091,    604,  25166,    611,    888,\n",
              "           1423, 235265,      1]], device='cuda:0')"
            ]
          },
          "execution_count": 48,
          "metadata": {},
          "output_type": "execute_result"
        }
      ],
      "source": [
        "output"
      ]
    },
    {
      "cell_type": "code",
      "execution_count": 49,
      "metadata": {
        "id": "6q6zI1T9FZ4-"
      },
      "outputs": [],
      "source": [
        "response = tokenizer.decode(output[0])"
      ]
    },
    {
      "cell_type": "code",
      "execution_count": 50,
      "metadata": {
        "colab": {
          "base_uri": "https://localhost:8080/"
        },
        "id": "RqA4vw_XFZ4-",
        "outputId": "780792fd-3df1-4a25-c5ea-bc159617d0d3"
      },
      "outputs": [
        {
          "name": "stdout",
          "output_type": "stream",
          "text": [
            "<bos><start_of_turn>user\n",
            "Write a program to train logistic regression model<end_of_turn>\n",
            "<start_of_turn>model\n",
            "```python\n",
            "import pandas as pd\n",
            "import numpy as np\n",
            "from sklearn.model_selection import train_test_split\n",
            "from sklearn.linear_model import LogisticRegression\n",
            "from sklearn.metrics import accuracy_score\n",
            "\n",
            "# Load the data\n",
            "data = pd.read_csv('data.csv')\n",
            "\n",
            "# Split the data into training and testing sets\n",
            "X_train, X_test, y_train, y_test = train_test_split(data.drop('target', axis=1), data['target'], test_size=0.2, random_state=42)\n",
            "\n",
            "# Create the logistic regression model\n",
            "model = LogisticRegression()\n",
            "\n",
            "# Train the model\n",
            "model.fit(X_train, y_train)\n",
            "\n",
            "# Evaluate the model on the testing set\n",
            "y_pred = model.predict(X_test)\n",
            "accuracy = accuracy_score(y_test, y_pred)\n",
            "print('Accuracy:', accuracy)\n",
            "\n",
            "# Print some information about the model\n",
            "print('Parameters:')\n",
            "print(model.coef_)\n",
            "print('Intercept:', model.intercept_)\n",
            "\n",
            "# Save the model for future use\n",
            "model.save('logistic_regression_model.pkl')\n",
            "```\n",
            "\n",
            "**data.csv** should contain a CSV file with the following columns:\n",
            "\n",
            "* **feature_1**\n",
            "* **feature_2**\n",
            "* **feature_3**\n",
            "* **target**\n",
            "\n",
            "**Instructions:**\n",
            "\n",
            "1. Replace **data.csv** with the actual path to your data file.\n",
            "2. Ensure that the **target** column contains binary labels (0 or 1).\n",
            "3. Run the script.\n",
            "\n",
            "**Output:**\n",
            "\n",
            "The program will print the following output:\n",
            "\n",
            "```\n",
            "Accuracy: 0.85\n",
            "Parameters: [ 0.23456789 -0.56789012]\n",
            "Intercept: 0.3456789\n",
            "```\n",
            "\n",
            "This indicates that the model achieves an accuracy of 0.85 on the testing set.\n",
            "\n",
            "**Note:**\n",
            "\n",
            "* The **test_size** parameter in the `train_test_split` function controls the size of the testing set. In this example, 20% of the data is set aside as the testing set.\n",
            "* The **model.save()` function saves the trained model for future use.\n",
            "* You can use the saved model for prediction on new data.<eos>\n"
          ]
        }
      ],
      "source": [
        "print(response)"
      ]
    },
    {
      "cell_type": "markdown",
      "metadata": {
        "id": "TJScD2yJFriz"
      },
      "source": [
        "# **Getting the specific output from the model**"
      ]
    },
    {
      "cell_type": "code",
      "execution_count": 54,
      "metadata": {
        "colab": {
          "base_uri": "https://localhost:8080/"
        },
        "id": "0zbUPZ0eFqZy",
        "outputId": "2cd2cd24-ef11-40e6-9b0c-2aeb3305dfda"
      },
      "outputs": [
        {
          "name": "stdout",
          "output_type": "stream",
          "text": [
            "import pandas as pd\n",
            "import numpy as np\n",
            "from sklearn.model_selection import train_test_split\n",
            "from sklearn.linear_model import LogisticRegression\n",
            "from sklearn.metrics import accuracy_score\n",
            "\n",
            "# Load the data\n",
            "data = pd.read_csv('data.csv')\n",
            "\n",
            "# Split the data into training and testing sets\n",
            "X_train, X_test, y_train, y_test = train_test_split(data.drop('target', axis=1), data['target'], test_size=0.2, random_state=42)\n",
            "\n",
            "# Create the logistic regression model\n",
            "model = LogisticRegression()\n",
            "\n",
            "# Train the model\n",
            "model.fit(X_train, y_train)\n",
            "\n",
            "# Evaluate the model on the testing set\n",
            "y_pred = model.predict(X_test)\n",
            "accuracy = accuracy_score(y_test, y_pred)\n",
            "print('Accuracy:', accuracy)\n",
            "\n",
            "# Print some information about the model\n",
            "print('Parameters:')\n",
            "print(model.coef_)\n",
            "print('Intercept:', model.intercept_)\n",
            "\n",
            "# Save the model for future use\n",
            "model.save('logistic_regression_model.pkl')\n"
          ]
        }
      ],
      "source": [
        "import re\n",
        "\n",
        "start_pattern = r\"```python\"\n",
        "end_pattern = r\"```\"\n",
        "\n",
        "pattern = re.compile(rf\"{start_pattern}(.*?){end_pattern}\", re.DOTALL)\n",
        "\n",
        "match = pattern.search(response)\n",
        "\n",
        "if match:\n",
        "  hii = match.group(1).strip()\n",
        "  print(hii)\n",
        "else:\n",
        "  print(\"No match found\")"
      ]
    },
    {
      "cell_type": "code",
      "execution_count": null,
      "metadata": {
        "id": "iVbb2PY0GHgb"
      },
      "outputs": [],
      "source": []
    }
  ],
  "metadata": {
    "accelerator": "GPU",
    "colab": {
      "gpuType": "T4",
      "provenance": []
    },
    "kernelspec": {
      "display_name": "Python 3",
      "name": "python3"
    },
    "language_info": {
      "name": "python"
    },
    "widgets": {
      "application/vnd.jupyter.widget-state+json": {
        "0cb94c63b7e64722b29eb86660ee7cd6": {
          "model_module": "@jupyter-widgets/controls",
          "model_module_version": "1.5.0",
          "model_name": "ProgressStyleModel",
          "state": {
            "_model_module": "@jupyter-widgets/controls",
            "_model_module_version": "1.5.0",
            "_model_name": "ProgressStyleModel",
            "_view_count": null,
            "_view_module": "@jupyter-widgets/base",
            "_view_module_version": "1.2.0",
            "_view_name": "StyleView",
            "bar_color": null,
            "description_width": ""
          }
        },
        "0f6557005b254496ad95876b804dbef4": {
          "model_module": "@jupyter-widgets/base",
          "model_module_version": "1.2.0",
          "model_name": "LayoutModel",
          "state": {
            "_model_module": "@jupyter-widgets/base",
            "_model_module_version": "1.2.0",
            "_model_name": "LayoutModel",
            "_view_count": null,
            "_view_module": "@jupyter-widgets/base",
            "_view_module_version": "1.2.0",
            "_view_name": "LayoutView",
            "align_content": null,
            "align_items": null,
            "align_self": null,
            "border": null,
            "bottom": null,
            "display": null,
            "flex": null,
            "flex_flow": null,
            "grid_area": null,
            "grid_auto_columns": null,
            "grid_auto_flow": null,
            "grid_auto_rows": null,
            "grid_column": null,
            "grid_gap": null,
            "grid_row": null,
            "grid_template_areas": null,
            "grid_template_columns": null,
            "grid_template_rows": null,
            "height": null,
            "justify_content": null,
            "justify_items": null,
            "left": null,
            "margin": null,
            "max_height": null,
            "max_width": null,
            "min_height": null,
            "min_width": null,
            "object_fit": null,
            "object_position": null,
            "order": null,
            "overflow": null,
            "overflow_x": null,
            "overflow_y": null,
            "padding": null,
            "right": null,
            "top": null,
            "visibility": null,
            "width": null
          }
        },
        "135edcf5b53b4990b6c03f8902a62041": {
          "model_module": "@jupyter-widgets/controls",
          "model_module_version": "1.5.0",
          "model_name": "HTMLModel",
          "state": {
            "_dom_classes": [],
            "_model_module": "@jupyter-widgets/controls",
            "_model_module_version": "1.5.0",
            "_model_name": "HTMLModel",
            "_view_count": null,
            "_view_module": "@jupyter-widgets/controls",
            "_view_module_version": "1.5.0",
            "_view_name": "HTMLView",
            "description": "",
            "description_tooltip": null,
            "layout": "IPY_MODEL_1dd2f45ea9d7481fb84317f16ef24ab9",
            "placeholder": "​",
            "style": "IPY_MODEL_c37c41fc7d7546f4b04efc22f78c0df7",
            "value": "tokenizer_config.json: 100%"
          }
        },
        "151107f6ea124bc69c2563d08c9c2a53": {
          "model_module": "@jupyter-widgets/base",
          "model_module_version": "1.2.0",
          "model_name": "LayoutModel",
          "state": {
            "_model_module": "@jupyter-widgets/base",
            "_model_module_version": "1.2.0",
            "_model_name": "LayoutModel",
            "_view_count": null,
            "_view_module": "@jupyter-widgets/base",
            "_view_module_version": "1.2.0",
            "_view_name": "LayoutView",
            "align_content": null,
            "align_items": null,
            "align_self": null,
            "border": null,
            "bottom": null,
            "display": null,
            "flex": null,
            "flex_flow": null,
            "grid_area": null,
            "grid_auto_columns": null,
            "grid_auto_flow": null,
            "grid_auto_rows": null,
            "grid_column": null,
            "grid_gap": null,
            "grid_row": null,
            "grid_template_areas": null,
            "grid_template_columns": null,
            "grid_template_rows": null,
            "height": null,
            "justify_content": null,
            "justify_items": null,
            "left": null,
            "margin": null,
            "max_height": null,
            "max_width": null,
            "min_height": null,
            "min_width": null,
            "object_fit": null,
            "object_position": null,
            "order": null,
            "overflow": null,
            "overflow_x": null,
            "overflow_y": null,
            "padding": null,
            "right": null,
            "top": null,
            "visibility": null,
            "width": null
          }
        },
        "1aa42d58d6a44005acda9ff575a83b14": {
          "model_module": "@jupyter-widgets/base",
          "model_module_version": "1.2.0",
          "model_name": "LayoutModel",
          "state": {
            "_model_module": "@jupyter-widgets/base",
            "_model_module_version": "1.2.0",
            "_model_name": "LayoutModel",
            "_view_count": null,
            "_view_module": "@jupyter-widgets/base",
            "_view_module_version": "1.2.0",
            "_view_name": "LayoutView",
            "align_content": null,
            "align_items": null,
            "align_self": null,
            "border": null,
            "bottom": null,
            "display": null,
            "flex": null,
            "flex_flow": null,
            "grid_area": null,
            "grid_auto_columns": null,
            "grid_auto_flow": null,
            "grid_auto_rows": null,
            "grid_column": null,
            "grid_gap": null,
            "grid_row": null,
            "grid_template_areas": null,
            "grid_template_columns": null,
            "grid_template_rows": null,
            "height": null,
            "justify_content": null,
            "justify_items": null,
            "left": null,
            "margin": null,
            "max_height": null,
            "max_width": null,
            "min_height": null,
            "min_width": null,
            "object_fit": null,
            "object_position": null,
            "order": null,
            "overflow": null,
            "overflow_x": null,
            "overflow_y": null,
            "padding": null,
            "right": null,
            "top": null,
            "visibility": null,
            "width": null
          }
        },
        "1c334575903644fdb0f02a1912b3fe7b": {
          "model_module": "@jupyter-widgets/controls",
          "model_module_version": "1.5.0",
          "model_name": "HTMLModel",
          "state": {
            "_dom_classes": [],
            "_model_module": "@jupyter-widgets/controls",
            "_model_module_version": "1.5.0",
            "_model_name": "HTMLModel",
            "_view_count": null,
            "_view_module": "@jupyter-widgets/controls",
            "_view_module_version": "1.5.0",
            "_view_name": "HTMLView",
            "description": "",
            "description_tooltip": null,
            "layout": "IPY_MODEL_b427f52ce7c9430fbf25c64ad6dbd5f3",
            "placeholder": "​",
            "style": "IPY_MODEL_f7f800df8f634627a6b4fc1eefc99519",
            "value": " 4.24M/4.24M [00:00&lt;00:00, 4.48MB/s]"
          }
        },
        "1dd2f45ea9d7481fb84317f16ef24ab9": {
          "model_module": "@jupyter-widgets/base",
          "model_module_version": "1.2.0",
          "model_name": "LayoutModel",
          "state": {
            "_model_module": "@jupyter-widgets/base",
            "_model_module_version": "1.2.0",
            "_model_name": "LayoutModel",
            "_view_count": null,
            "_view_module": "@jupyter-widgets/base",
            "_view_module_version": "1.2.0",
            "_view_name": "LayoutView",
            "align_content": null,
            "align_items": null,
            "align_self": null,
            "border": null,
            "bottom": null,
            "display": null,
            "flex": null,
            "flex_flow": null,
            "grid_area": null,
            "grid_auto_columns": null,
            "grid_auto_flow": null,
            "grid_auto_rows": null,
            "grid_column": null,
            "grid_gap": null,
            "grid_row": null,
            "grid_template_areas": null,
            "grid_template_columns": null,
            "grid_template_rows": null,
            "height": null,
            "justify_content": null,
            "justify_items": null,
            "left": null,
            "margin": null,
            "max_height": null,
            "max_width": null,
            "min_height": null,
            "min_width": null,
            "object_fit": null,
            "object_position": null,
            "order": null,
            "overflow": null,
            "overflow_x": null,
            "overflow_y": null,
            "padding": null,
            "right": null,
            "top": null,
            "visibility": null,
            "width": null
          }
        },
        "2599aec1e7844cc0a46befaa9b3cfd80": {
          "model_module": "@jupyter-widgets/controls",
          "model_module_version": "1.5.0",
          "model_name": "HBoxModel",
          "state": {
            "_dom_classes": [],
            "_model_module": "@jupyter-widgets/controls",
            "_model_module_version": "1.5.0",
            "_model_name": "HBoxModel",
            "_view_count": null,
            "_view_module": "@jupyter-widgets/controls",
            "_view_module_version": "1.5.0",
            "_view_name": "HBoxView",
            "box_style": "",
            "children": [
              "IPY_MODEL_135edcf5b53b4990b6c03f8902a62041",
              "IPY_MODEL_9a7c76bbea034d11a613e236fdfcf7c9",
              "IPY_MODEL_92d30f04ecbf4ea188551a2576780281"
            ],
            "layout": "IPY_MODEL_151107f6ea124bc69c2563d08c9c2a53"
          }
        },
        "2a0a14ea119e4b6d83cb27e6e328845b": {
          "model_module": "@jupyter-widgets/base",
          "model_module_version": "1.2.0",
          "model_name": "LayoutModel",
          "state": {
            "_model_module": "@jupyter-widgets/base",
            "_model_module_version": "1.2.0",
            "_model_name": "LayoutModel",
            "_view_count": null,
            "_view_module": "@jupyter-widgets/base",
            "_view_module_version": "1.2.0",
            "_view_name": "LayoutView",
            "align_content": null,
            "align_items": null,
            "align_self": null,
            "border": null,
            "bottom": null,
            "display": null,
            "flex": null,
            "flex_flow": null,
            "grid_area": null,
            "grid_auto_columns": null,
            "grid_auto_flow": null,
            "grid_auto_rows": null,
            "grid_column": null,
            "grid_gap": null,
            "grid_row": null,
            "grid_template_areas": null,
            "grid_template_columns": null,
            "grid_template_rows": null,
            "height": null,
            "justify_content": null,
            "justify_items": null,
            "left": null,
            "margin": null,
            "max_height": null,
            "max_width": null,
            "min_height": null,
            "min_width": null,
            "object_fit": null,
            "object_position": null,
            "order": null,
            "overflow": null,
            "overflow_x": null,
            "overflow_y": null,
            "padding": null,
            "right": null,
            "top": null,
            "visibility": null,
            "width": null
          }
        },
        "2c3ad20fa85649a9b220402a563d364c": {
          "model_module": "@jupyter-widgets/controls",
          "model_module_version": "1.5.0",
          "model_name": "DescriptionStyleModel",
          "state": {
            "_model_module": "@jupyter-widgets/controls",
            "_model_module_version": "1.5.0",
            "_model_name": "DescriptionStyleModel",
            "_view_count": null,
            "_view_module": "@jupyter-widgets/base",
            "_view_module_version": "1.2.0",
            "_view_name": "StyleView",
            "description_width": ""
          }
        },
        "2ca3d9a3d31e49bab9302eaa67dbda49": {
          "model_module": "@jupyter-widgets/controls",
          "model_module_version": "1.5.0",
          "model_name": "HTMLModel",
          "state": {
            "_dom_classes": [],
            "_model_module": "@jupyter-widgets/controls",
            "_model_module_version": "1.5.0",
            "_model_name": "HTMLModel",
            "_view_count": null,
            "_view_module": "@jupyter-widgets/controls",
            "_view_module_version": "1.5.0",
            "_view_name": "HTMLView",
            "description": "",
            "description_tooltip": null,
            "layout": "IPY_MODEL_a815474c9d574113b183aa97bc6e022a",
            "placeholder": "​",
            "style": "IPY_MODEL_fbfe92eab622445ebbf21f7f4813d45c",
            "value": " 17.5M/17.5M [00:01&lt;00:00, 13.8MB/s]"
          }
        },
        "2e5e1ad7e16441d5897b24abc2d2ff0d": {
          "model_module": "@jupyter-widgets/controls",
          "model_module_version": "1.5.0",
          "model_name": "HBoxModel",
          "state": {
            "_dom_classes": [],
            "_model_module": "@jupyter-widgets/controls",
            "_model_module_version": "1.5.0",
            "_model_name": "HBoxModel",
            "_view_count": null,
            "_view_module": "@jupyter-widgets/controls",
            "_view_module_version": "1.5.0",
            "_view_name": "HBoxView",
            "box_style": "",
            "children": [
              "IPY_MODEL_caa9ba60786a47ceaa5478c5ee8b890b",
              "IPY_MODEL_9f7f54644e534ed5b369b4cc1bd29038",
              "IPY_MODEL_911a9935fd1b44908e633b43a8d41c03"
            ],
            "layout": "IPY_MODEL_1aa42d58d6a44005acda9ff575a83b14"
          }
        },
        "2e8848d4821e41c9a68792f455c8456b": {
          "model_module": "@jupyter-widgets/controls",
          "model_module_version": "1.5.0",
          "model_name": "HTMLModel",
          "state": {
            "_dom_classes": [],
            "_model_module": "@jupyter-widgets/controls",
            "_model_module_version": "1.5.0",
            "_model_name": "HTMLModel",
            "_view_count": null,
            "_view_module": "@jupyter-widgets/controls",
            "_view_module_version": "1.5.0",
            "_view_name": "HTMLView",
            "description": "",
            "description_tooltip": null,
            "layout": "IPY_MODEL_6c485e58a11440bda970976c0ea0e43b",
            "placeholder": "​",
            "style": "IPY_MODEL_5bdd206d4b6c4bb6a2dabaaeb5f70a4f",
            "value": "generation_config.json: 100%"
          }
        },
        "3056b57306d14a359341994c333edab6": {
          "model_module": "@jupyter-widgets/base",
          "model_module_version": "1.2.0",
          "model_name": "LayoutModel",
          "state": {
            "_model_module": "@jupyter-widgets/base",
            "_model_module_version": "1.2.0",
            "_model_name": "LayoutModel",
            "_view_count": null,
            "_view_module": "@jupyter-widgets/base",
            "_view_module_version": "1.2.0",
            "_view_name": "LayoutView",
            "align_content": null,
            "align_items": null,
            "align_self": null,
            "border": null,
            "bottom": null,
            "display": null,
            "flex": null,
            "flex_flow": null,
            "grid_area": null,
            "grid_auto_columns": null,
            "grid_auto_flow": null,
            "grid_auto_rows": null,
            "grid_column": null,
            "grid_gap": null,
            "grid_row": null,
            "grid_template_areas": null,
            "grid_template_columns": null,
            "grid_template_rows": null,
            "height": null,
            "justify_content": null,
            "justify_items": null,
            "left": null,
            "margin": null,
            "max_height": null,
            "max_width": null,
            "min_height": null,
            "min_width": null,
            "object_fit": null,
            "object_position": null,
            "order": null,
            "overflow": null,
            "overflow_x": null,
            "overflow_y": null,
            "padding": null,
            "right": null,
            "top": null,
            "visibility": null,
            "width": null
          }
        },
        "329db929c245496cbfab7e8b5ea444f3": {
          "model_module": "@jupyter-widgets/controls",
          "model_module_version": "1.5.0",
          "model_name": "DescriptionStyleModel",
          "state": {
            "_model_module": "@jupyter-widgets/controls",
            "_model_module_version": "1.5.0",
            "_model_name": "DescriptionStyleModel",
            "_view_count": null,
            "_view_module": "@jupyter-widgets/base",
            "_view_module_version": "1.2.0",
            "_view_name": "StyleView",
            "description_width": ""
          }
        },
        "36d99cabdf854a1da413c106e51e6f30": {
          "model_module": "@jupyter-widgets/controls",
          "model_module_version": "1.5.0",
          "model_name": "ProgressStyleModel",
          "state": {
            "_model_module": "@jupyter-widgets/controls",
            "_model_module_version": "1.5.0",
            "_model_name": "ProgressStyleModel",
            "_view_count": null,
            "_view_module": "@jupyter-widgets/base",
            "_view_module_version": "1.2.0",
            "_view_name": "StyleView",
            "bar_color": null,
            "description_width": ""
          }
        },
        "3c08de08cb03404bbbb517c8076fa149": {
          "model_module": "@jupyter-widgets/controls",
          "model_module_version": "1.5.0",
          "model_name": "HTMLModel",
          "state": {
            "_dom_classes": [],
            "_model_module": "@jupyter-widgets/controls",
            "_model_module_version": "1.5.0",
            "_model_name": "HTMLModel",
            "_view_count": null,
            "_view_module": "@jupyter-widgets/controls",
            "_view_module_version": "1.5.0",
            "_view_name": "HTMLView",
            "description": "",
            "description_tooltip": null,
            "layout": "IPY_MODEL_f5b7ca09285d42a6a03167ab50c74103",
            "placeholder": "​",
            "style": "IPY_MODEL_84d762105aed4cfc9cc3a2ba6ac6b090",
            "value": " 137/137 [00:00&lt;00:00, 3.67kB/s]"
          }
        },
        "494dfee6a9ab4f1cab6d98ce4f982200": {
          "model_module": "@jupyter-widgets/base",
          "model_module_version": "1.2.0",
          "model_name": "LayoutModel",
          "state": {
            "_model_module": "@jupyter-widgets/base",
            "_model_module_version": "1.2.0",
            "_model_name": "LayoutModel",
            "_view_count": null,
            "_view_module": "@jupyter-widgets/base",
            "_view_module_version": "1.2.0",
            "_view_name": "LayoutView",
            "align_content": null,
            "align_items": null,
            "align_self": null,
            "border": null,
            "bottom": null,
            "display": null,
            "flex": null,
            "flex_flow": null,
            "grid_area": null,
            "grid_auto_columns": null,
            "grid_auto_flow": null,
            "grid_auto_rows": null,
            "grid_column": null,
            "grid_gap": null,
            "grid_row": null,
            "grid_template_areas": null,
            "grid_template_columns": null,
            "grid_template_rows": null,
            "height": null,
            "justify_content": null,
            "justify_items": null,
            "left": null,
            "margin": null,
            "max_height": null,
            "max_width": null,
            "min_height": null,
            "min_width": null,
            "object_fit": null,
            "object_position": null,
            "order": null,
            "overflow": null,
            "overflow_x": null,
            "overflow_y": null,
            "padding": null,
            "right": null,
            "top": null,
            "visibility": null,
            "width": null
          }
        },
        "5bdd206d4b6c4bb6a2dabaaeb5f70a4f": {
          "model_module": "@jupyter-widgets/controls",
          "model_module_version": "1.5.0",
          "model_name": "DescriptionStyleModel",
          "state": {
            "_model_module": "@jupyter-widgets/controls",
            "_model_module_version": "1.5.0",
            "_model_name": "DescriptionStyleModel",
            "_view_count": null,
            "_view_module": "@jupyter-widgets/base",
            "_view_module_version": "1.2.0",
            "_view_name": "StyleView",
            "description_width": ""
          }
        },
        "60fc65011ebe451a9dcc7edcb1c2e544": {
          "model_module": "@jupyter-widgets/controls",
          "model_module_version": "1.5.0",
          "model_name": "HTMLModel",
          "state": {
            "_dom_classes": [],
            "_model_module": "@jupyter-widgets/controls",
            "_model_module_version": "1.5.0",
            "_model_name": "HTMLModel",
            "_view_count": null,
            "_view_module": "@jupyter-widgets/controls",
            "_view_module_version": "1.5.0",
            "_view_name": "HTMLView",
            "description": "",
            "description_tooltip": null,
            "layout": "IPY_MODEL_9f1a0c37f1844681bfbd8f24e3a2d430",
            "placeholder": "​",
            "style": "IPY_MODEL_ca7e2d43a8474106ab2c63a48eeea2cb",
            "value": "tokenizer.json: 100%"
          }
        },
        "611abaa9a0a24e3bb617e02e61a4b89e": {
          "model_module": "@jupyter-widgets/controls",
          "model_module_version": "1.5.0",
          "model_name": "DescriptionStyleModel",
          "state": {
            "_model_module": "@jupyter-widgets/controls",
            "_model_module_version": "1.5.0",
            "_model_name": "DescriptionStyleModel",
            "_view_count": null,
            "_view_module": "@jupyter-widgets/base",
            "_view_module_version": "1.2.0",
            "_view_name": "StyleView",
            "description_width": ""
          }
        },
        "6857e1eae30141fbbc93fbb956547a20": {
          "model_module": "@jupyter-widgets/base",
          "model_module_version": "1.2.0",
          "model_name": "LayoutModel",
          "state": {
            "_model_module": "@jupyter-widgets/base",
            "_model_module_version": "1.2.0",
            "_model_name": "LayoutModel",
            "_view_count": null,
            "_view_module": "@jupyter-widgets/base",
            "_view_module_version": "1.2.0",
            "_view_name": "LayoutView",
            "align_content": null,
            "align_items": null,
            "align_self": null,
            "border": null,
            "bottom": null,
            "display": null,
            "flex": null,
            "flex_flow": null,
            "grid_area": null,
            "grid_auto_columns": null,
            "grid_auto_flow": null,
            "grid_auto_rows": null,
            "grid_column": null,
            "grid_gap": null,
            "grid_row": null,
            "grid_template_areas": null,
            "grid_template_columns": null,
            "grid_template_rows": null,
            "height": null,
            "justify_content": null,
            "justify_items": null,
            "left": null,
            "margin": null,
            "max_height": null,
            "max_width": null,
            "min_height": null,
            "min_width": null,
            "object_fit": null,
            "object_position": null,
            "order": null,
            "overflow": null,
            "overflow_x": null,
            "overflow_y": null,
            "padding": null,
            "right": null,
            "top": null,
            "visibility": null,
            "width": null
          }
        },
        "6af97e803e3749ce947ee988bbf94b25": {
          "model_module": "@jupyter-widgets/controls",
          "model_module_version": "1.5.0",
          "model_name": "FloatProgressModel",
          "state": {
            "_dom_classes": [],
            "_model_module": "@jupyter-widgets/controls",
            "_model_module_version": "1.5.0",
            "_model_name": "FloatProgressModel",
            "_view_count": null,
            "_view_module": "@jupyter-widgets/controls",
            "_view_module_version": "1.5.0",
            "_view_name": "ProgressView",
            "bar_style": "success",
            "description": "",
            "description_tooltip": null,
            "layout": "IPY_MODEL_2a0a14ea119e4b6d83cb27e6e328845b",
            "max": 2,
            "min": 0,
            "orientation": "horizontal",
            "style": "IPY_MODEL_993e8b4f389e4997997fc319ea9902ba",
            "value": 2
          }
        },
        "6c485e58a11440bda970976c0ea0e43b": {
          "model_module": "@jupyter-widgets/base",
          "model_module_version": "1.2.0",
          "model_name": "LayoutModel",
          "state": {
            "_model_module": "@jupyter-widgets/base",
            "_model_module_version": "1.2.0",
            "_model_name": "LayoutModel",
            "_view_count": null,
            "_view_module": "@jupyter-widgets/base",
            "_view_module_version": "1.2.0",
            "_view_name": "LayoutView",
            "align_content": null,
            "align_items": null,
            "align_self": null,
            "border": null,
            "bottom": null,
            "display": null,
            "flex": null,
            "flex_flow": null,
            "grid_area": null,
            "grid_auto_columns": null,
            "grid_auto_flow": null,
            "grid_auto_rows": null,
            "grid_column": null,
            "grid_gap": null,
            "grid_row": null,
            "grid_template_areas": null,
            "grid_template_columns": null,
            "grid_template_rows": null,
            "height": null,
            "justify_content": null,
            "justify_items": null,
            "left": null,
            "margin": null,
            "max_height": null,
            "max_width": null,
            "min_height": null,
            "min_width": null,
            "object_fit": null,
            "object_position": null,
            "order": null,
            "overflow": null,
            "overflow_x": null,
            "overflow_y": null,
            "padding": null,
            "right": null,
            "top": null,
            "visibility": null,
            "width": null
          }
        },
        "6fe04135db14494d9cf46422ee228aac": {
          "model_module": "@jupyter-widgets/base",
          "model_module_version": "1.2.0",
          "model_name": "LayoutModel",
          "state": {
            "_model_module": "@jupyter-widgets/base",
            "_model_module_version": "1.2.0",
            "_model_name": "LayoutModel",
            "_view_count": null,
            "_view_module": "@jupyter-widgets/base",
            "_view_module_version": "1.2.0",
            "_view_name": "LayoutView",
            "align_content": null,
            "align_items": null,
            "align_self": null,
            "border": null,
            "bottom": null,
            "display": null,
            "flex": null,
            "flex_flow": null,
            "grid_area": null,
            "grid_auto_columns": null,
            "grid_auto_flow": null,
            "grid_auto_rows": null,
            "grid_column": null,
            "grid_gap": null,
            "grid_row": null,
            "grid_template_areas": null,
            "grid_template_columns": null,
            "grid_template_rows": null,
            "height": null,
            "justify_content": null,
            "justify_items": null,
            "left": null,
            "margin": null,
            "max_height": null,
            "max_width": null,
            "min_height": null,
            "min_width": null,
            "object_fit": null,
            "object_position": null,
            "order": null,
            "overflow": null,
            "overflow_x": null,
            "overflow_y": null,
            "padding": null,
            "right": null,
            "top": null,
            "visibility": null,
            "width": null
          }
        },
        "7397f9e614414b21b6795da13743e05b": {
          "model_module": "@jupyter-widgets/controls",
          "model_module_version": "1.5.0",
          "model_name": "DescriptionStyleModel",
          "state": {
            "_model_module": "@jupyter-widgets/controls",
            "_model_module_version": "1.5.0",
            "_model_name": "DescriptionStyleModel",
            "_view_count": null,
            "_view_module": "@jupyter-widgets/base",
            "_view_module_version": "1.2.0",
            "_view_name": "StyleView",
            "description_width": ""
          }
        },
        "77e706d1efa342708f6cc2cd108e653e": {
          "model_module": "@jupyter-widgets/controls",
          "model_module_version": "1.5.0",
          "model_name": "FloatProgressModel",
          "state": {
            "_dom_classes": [],
            "_model_module": "@jupyter-widgets/controls",
            "_model_module_version": "1.5.0",
            "_model_name": "FloatProgressModel",
            "_view_count": null,
            "_view_module": "@jupyter-widgets/controls",
            "_view_module_version": "1.5.0",
            "_view_name": "ProgressView",
            "bar_style": "success",
            "description": "",
            "description_tooltip": null,
            "layout": "IPY_MODEL_c5621c4f8899401f835680b4f225aa46",
            "max": 4241003,
            "min": 0,
            "orientation": "horizontal",
            "style": "IPY_MODEL_ebbd63343e3c4f7c995c17771189045d",
            "value": 4241003
          }
        },
        "83cd59c74be342c0aa781958707eb82f": {
          "model_module": "@jupyter-widgets/base",
          "model_module_version": "1.2.0",
          "model_name": "LayoutModel",
          "state": {
            "_model_module": "@jupyter-widgets/base",
            "_model_module_version": "1.2.0",
            "_model_name": "LayoutModel",
            "_view_count": null,
            "_view_module": "@jupyter-widgets/base",
            "_view_module_version": "1.2.0",
            "_view_name": "LayoutView",
            "align_content": null,
            "align_items": null,
            "align_self": null,
            "border": null,
            "bottom": null,
            "display": null,
            "flex": null,
            "flex_flow": null,
            "grid_area": null,
            "grid_auto_columns": null,
            "grid_auto_flow": null,
            "grid_auto_rows": null,
            "grid_column": null,
            "grid_gap": null,
            "grid_row": null,
            "grid_template_areas": null,
            "grid_template_columns": null,
            "grid_template_rows": null,
            "height": null,
            "justify_content": null,
            "justify_items": null,
            "left": null,
            "margin": null,
            "max_height": null,
            "max_width": null,
            "min_height": null,
            "min_width": null,
            "object_fit": null,
            "object_position": null,
            "order": null,
            "overflow": null,
            "overflow_x": null,
            "overflow_y": null,
            "padding": null,
            "right": null,
            "top": null,
            "visibility": null,
            "width": null
          }
        },
        "84d762105aed4cfc9cc3a2ba6ac6b090": {
          "model_module": "@jupyter-widgets/controls",
          "model_module_version": "1.5.0",
          "model_name": "DescriptionStyleModel",
          "state": {
            "_model_module": "@jupyter-widgets/controls",
            "_model_module_version": "1.5.0",
            "_model_name": "DescriptionStyleModel",
            "_view_count": null,
            "_view_module": "@jupyter-widgets/base",
            "_view_module_version": "1.2.0",
            "_view_name": "StyleView",
            "description_width": ""
          }
        },
        "8e5448ab705e49b9886026a5ed2110e6": {
          "model_module": "@jupyter-widgets/controls",
          "model_module_version": "1.5.0",
          "model_name": "HBoxModel",
          "state": {
            "_dom_classes": [],
            "_model_module": "@jupyter-widgets/controls",
            "_model_module_version": "1.5.0",
            "_model_name": "HBoxModel",
            "_view_count": null,
            "_view_module": "@jupyter-widgets/controls",
            "_view_module_version": "1.5.0",
            "_view_name": "HBoxView",
            "box_style": "",
            "children": [
              "IPY_MODEL_2e8848d4821e41c9a68792f455c8456b",
              "IPY_MODEL_dc593bfa04ed4c4c9d474e58057d5aa9",
              "IPY_MODEL_3c08de08cb03404bbbb517c8076fa149"
            ],
            "layout": "IPY_MODEL_ad3cced35f274593b9bf794c8ea7451a"
          }
        },
        "911a9935fd1b44908e633b43a8d41c03": {
          "model_module": "@jupyter-widgets/controls",
          "model_module_version": "1.5.0",
          "model_name": "HTMLModel",
          "state": {
            "_dom_classes": [],
            "_model_module": "@jupyter-widgets/controls",
            "_model_module_version": "1.5.0",
            "_model_name": "HTMLModel",
            "_view_count": null,
            "_view_module": "@jupyter-widgets/controls",
            "_view_module_version": "1.5.0",
            "_view_name": "HTMLView",
            "description": "",
            "description_tooltip": null,
            "layout": "IPY_MODEL_c2d2ed13aad645b49241b6444354d93e",
            "placeholder": "​",
            "style": "IPY_MODEL_2c3ad20fa85649a9b220402a563d364c",
            "value": " 636/636 [00:00&lt;00:00, 29.4kB/s]"
          }
        },
        "92d30f04ecbf4ea188551a2576780281": {
          "model_module": "@jupyter-widgets/controls",
          "model_module_version": "1.5.0",
          "model_name": "HTMLModel",
          "state": {
            "_dom_classes": [],
            "_model_module": "@jupyter-widgets/controls",
            "_model_module_version": "1.5.0",
            "_model_name": "HTMLModel",
            "_view_count": null,
            "_view_module": "@jupyter-widgets/controls",
            "_view_module_version": "1.5.0",
            "_view_name": "HTMLView",
            "description": "",
            "description_tooltip": null,
            "layout": "IPY_MODEL_c4539851cf384272bf1918350e9ce779",
            "placeholder": "​",
            "style": "IPY_MODEL_7397f9e614414b21b6795da13743e05b",
            "value": " 34.2k/34.2k [00:00&lt;00:00, 574kB/s]"
          }
        },
        "9464aae016a34ecf941a27fe9bec561f": {
          "model_module": "@jupyter-widgets/base",
          "model_module_version": "1.2.0",
          "model_name": "LayoutModel",
          "state": {
            "_model_module": "@jupyter-widgets/base",
            "_model_module_version": "1.2.0",
            "_model_name": "LayoutModel",
            "_view_count": null,
            "_view_module": "@jupyter-widgets/base",
            "_view_module_version": "1.2.0",
            "_view_name": "LayoutView",
            "align_content": null,
            "align_items": null,
            "align_self": null,
            "border": null,
            "bottom": null,
            "display": null,
            "flex": null,
            "flex_flow": null,
            "grid_area": null,
            "grid_auto_columns": null,
            "grid_auto_flow": null,
            "grid_auto_rows": null,
            "grid_column": null,
            "grid_gap": null,
            "grid_row": null,
            "grid_template_areas": null,
            "grid_template_columns": null,
            "grid_template_rows": null,
            "height": null,
            "justify_content": null,
            "justify_items": null,
            "left": null,
            "margin": null,
            "max_height": null,
            "max_width": null,
            "min_height": null,
            "min_width": null,
            "object_fit": null,
            "object_position": null,
            "order": null,
            "overflow": null,
            "overflow_x": null,
            "overflow_y": null,
            "padding": null,
            "right": null,
            "top": null,
            "visibility": null,
            "width": null
          }
        },
        "9513575924fb4e09811368a166772b76": {
          "model_module": "@jupyter-widgets/base",
          "model_module_version": "1.2.0",
          "model_name": "LayoutModel",
          "state": {
            "_model_module": "@jupyter-widgets/base",
            "_model_module_version": "1.2.0",
            "_model_name": "LayoutModel",
            "_view_count": null,
            "_view_module": "@jupyter-widgets/base",
            "_view_module_version": "1.2.0",
            "_view_name": "LayoutView",
            "align_content": null,
            "align_items": null,
            "align_self": null,
            "border": null,
            "bottom": null,
            "display": null,
            "flex": null,
            "flex_flow": null,
            "grid_area": null,
            "grid_auto_columns": null,
            "grid_auto_flow": null,
            "grid_auto_rows": null,
            "grid_column": null,
            "grid_gap": null,
            "grid_row": null,
            "grid_template_areas": null,
            "grid_template_columns": null,
            "grid_template_rows": null,
            "height": null,
            "justify_content": null,
            "justify_items": null,
            "left": null,
            "margin": null,
            "max_height": null,
            "max_width": null,
            "min_height": null,
            "min_width": null,
            "object_fit": null,
            "object_position": null,
            "order": null,
            "overflow": null,
            "overflow_x": null,
            "overflow_y": null,
            "padding": null,
            "right": null,
            "top": null,
            "visibility": null,
            "width": null
          }
        },
        "993e8b4f389e4997997fc319ea9902ba": {
          "model_module": "@jupyter-widgets/controls",
          "model_module_version": "1.5.0",
          "model_name": "ProgressStyleModel",
          "state": {
            "_model_module": "@jupyter-widgets/controls",
            "_model_module_version": "1.5.0",
            "_model_name": "ProgressStyleModel",
            "_view_count": null,
            "_view_module": "@jupyter-widgets/base",
            "_view_module_version": "1.2.0",
            "_view_name": "StyleView",
            "bar_color": null,
            "description_width": ""
          }
        },
        "9a7c76bbea034d11a613e236fdfcf7c9": {
          "model_module": "@jupyter-widgets/controls",
          "model_module_version": "1.5.0",
          "model_name": "FloatProgressModel",
          "state": {
            "_dom_classes": [],
            "_model_module": "@jupyter-widgets/controls",
            "_model_module_version": "1.5.0",
            "_model_name": "FloatProgressModel",
            "_view_count": null,
            "_view_module": "@jupyter-widgets/controls",
            "_view_module_version": "1.5.0",
            "_view_name": "ProgressView",
            "bar_style": "success",
            "description": "",
            "description_tooltip": null,
            "layout": "IPY_MODEL_3056b57306d14a359341994c333edab6",
            "max": 34173,
            "min": 0,
            "orientation": "horizontal",
            "style": "IPY_MODEL_d48be0726edd4c949fd99367e6d9fc74",
            "value": 34173
          }
        },
        "9f1a0c37f1844681bfbd8f24e3a2d430": {
          "model_module": "@jupyter-widgets/base",
          "model_module_version": "1.2.0",
          "model_name": "LayoutModel",
          "state": {
            "_model_module": "@jupyter-widgets/base",
            "_model_module_version": "1.2.0",
            "_model_name": "LayoutModel",
            "_view_count": null,
            "_view_module": "@jupyter-widgets/base",
            "_view_module_version": "1.2.0",
            "_view_name": "LayoutView",
            "align_content": null,
            "align_items": null,
            "align_self": null,
            "border": null,
            "bottom": null,
            "display": null,
            "flex": null,
            "flex_flow": null,
            "grid_area": null,
            "grid_auto_columns": null,
            "grid_auto_flow": null,
            "grid_auto_rows": null,
            "grid_column": null,
            "grid_gap": null,
            "grid_row": null,
            "grid_template_areas": null,
            "grid_template_columns": null,
            "grid_template_rows": null,
            "height": null,
            "justify_content": null,
            "justify_items": null,
            "left": null,
            "margin": null,
            "max_height": null,
            "max_width": null,
            "min_height": null,
            "min_width": null,
            "object_fit": null,
            "object_position": null,
            "order": null,
            "overflow": null,
            "overflow_x": null,
            "overflow_y": null,
            "padding": null,
            "right": null,
            "top": null,
            "visibility": null,
            "width": null
          }
        },
        "9f7f54644e534ed5b369b4cc1bd29038": {
          "model_module": "@jupyter-widgets/controls",
          "model_module_version": "1.5.0",
          "model_name": "FloatProgressModel",
          "state": {
            "_dom_classes": [],
            "_model_module": "@jupyter-widgets/controls",
            "_model_module_version": "1.5.0",
            "_model_name": "FloatProgressModel",
            "_view_count": null,
            "_view_module": "@jupyter-widgets/controls",
            "_view_module_version": "1.5.0",
            "_view_name": "ProgressView",
            "bar_style": "success",
            "description": "",
            "description_tooltip": null,
            "layout": "IPY_MODEL_9464aae016a34ecf941a27fe9bec561f",
            "max": 636,
            "min": 0,
            "orientation": "horizontal",
            "style": "IPY_MODEL_36d99cabdf854a1da413c106e51e6f30",
            "value": 636
          }
        },
        "a815474c9d574113b183aa97bc6e022a": {
          "model_module": "@jupyter-widgets/base",
          "model_module_version": "1.2.0",
          "model_name": "LayoutModel",
          "state": {
            "_model_module": "@jupyter-widgets/base",
            "_model_module_version": "1.2.0",
            "_model_name": "LayoutModel",
            "_view_count": null,
            "_view_module": "@jupyter-widgets/base",
            "_view_module_version": "1.2.0",
            "_view_name": "LayoutView",
            "align_content": null,
            "align_items": null,
            "align_self": null,
            "border": null,
            "bottom": null,
            "display": null,
            "flex": null,
            "flex_flow": null,
            "grid_area": null,
            "grid_auto_columns": null,
            "grid_auto_flow": null,
            "grid_auto_rows": null,
            "grid_column": null,
            "grid_gap": null,
            "grid_row": null,
            "grid_template_areas": null,
            "grid_template_columns": null,
            "grid_template_rows": null,
            "height": null,
            "justify_content": null,
            "justify_items": null,
            "left": null,
            "margin": null,
            "max_height": null,
            "max_width": null,
            "min_height": null,
            "min_width": null,
            "object_fit": null,
            "object_position": null,
            "order": null,
            "overflow": null,
            "overflow_x": null,
            "overflow_y": null,
            "padding": null,
            "right": null,
            "top": null,
            "visibility": null,
            "width": null
          }
        },
        "ad3cced35f274593b9bf794c8ea7451a": {
          "model_module": "@jupyter-widgets/base",
          "model_module_version": "1.2.0",
          "model_name": "LayoutModel",
          "state": {
            "_model_module": "@jupyter-widgets/base",
            "_model_module_version": "1.2.0",
            "_model_name": "LayoutModel",
            "_view_count": null,
            "_view_module": "@jupyter-widgets/base",
            "_view_module_version": "1.2.0",
            "_view_name": "LayoutView",
            "align_content": null,
            "align_items": null,
            "align_self": null,
            "border": null,
            "bottom": null,
            "display": null,
            "flex": null,
            "flex_flow": null,
            "grid_area": null,
            "grid_auto_columns": null,
            "grid_auto_flow": null,
            "grid_auto_rows": null,
            "grid_column": null,
            "grid_gap": null,
            "grid_row": null,
            "grid_template_areas": null,
            "grid_template_columns": null,
            "grid_template_rows": null,
            "height": null,
            "justify_content": null,
            "justify_items": null,
            "left": null,
            "margin": null,
            "max_height": null,
            "max_width": null,
            "min_height": null,
            "min_width": null,
            "object_fit": null,
            "object_position": null,
            "order": null,
            "overflow": null,
            "overflow_x": null,
            "overflow_y": null,
            "padding": null,
            "right": null,
            "top": null,
            "visibility": null,
            "width": null
          }
        },
        "b427f52ce7c9430fbf25c64ad6dbd5f3": {
          "model_module": "@jupyter-widgets/base",
          "model_module_version": "1.2.0",
          "model_name": "LayoutModel",
          "state": {
            "_model_module": "@jupyter-widgets/base",
            "_model_module_version": "1.2.0",
            "_model_name": "LayoutModel",
            "_view_count": null,
            "_view_module": "@jupyter-widgets/base",
            "_view_module_version": "1.2.0",
            "_view_name": "LayoutView",
            "align_content": null,
            "align_items": null,
            "align_self": null,
            "border": null,
            "bottom": null,
            "display": null,
            "flex": null,
            "flex_flow": null,
            "grid_area": null,
            "grid_auto_columns": null,
            "grid_auto_flow": null,
            "grid_auto_rows": null,
            "grid_column": null,
            "grid_gap": null,
            "grid_row": null,
            "grid_template_areas": null,
            "grid_template_columns": null,
            "grid_template_rows": null,
            "height": null,
            "justify_content": null,
            "justify_items": null,
            "left": null,
            "margin": null,
            "max_height": null,
            "max_width": null,
            "min_height": null,
            "min_width": null,
            "object_fit": null,
            "object_position": null,
            "order": null,
            "overflow": null,
            "overflow_x": null,
            "overflow_y": null,
            "padding": null,
            "right": null,
            "top": null,
            "visibility": null,
            "width": null
          }
        },
        "be3d04dda3384ae98efdbf0b4e0c6152": {
          "model_module": "@jupyter-widgets/controls",
          "model_module_version": "1.5.0",
          "model_name": "HTMLModel",
          "state": {
            "_dom_classes": [],
            "_model_module": "@jupyter-widgets/controls",
            "_model_module_version": "1.5.0",
            "_model_name": "HTMLModel",
            "_view_count": null,
            "_view_module": "@jupyter-widgets/controls",
            "_view_module_version": "1.5.0",
            "_view_name": "HTMLView",
            "description": "",
            "description_tooltip": null,
            "layout": "IPY_MODEL_f0a721f7b7954f1099e3b8ec4e161d63",
            "placeholder": "​",
            "style": "IPY_MODEL_611abaa9a0a24e3bb617e02e61a4b89e",
            "value": " 2/2 [00:24&lt;00:00, 10.15s/it]"
          }
        },
        "bfbd2c8d468347b8bc51cc5dd6495f07": {
          "model_module": "@jupyter-widgets/controls",
          "model_module_version": "1.5.0",
          "model_name": "HBoxModel",
          "state": {
            "_dom_classes": [],
            "_model_module": "@jupyter-widgets/controls",
            "_model_module_version": "1.5.0",
            "_model_name": "HBoxModel",
            "_view_count": null,
            "_view_module": "@jupyter-widgets/controls",
            "_view_module_version": "1.5.0",
            "_view_name": "HBoxView",
            "box_style": "",
            "children": [
              "IPY_MODEL_60fc65011ebe451a9dcc7edcb1c2e544",
              "IPY_MODEL_f6bcd48e85494787ab2308c2ad2fabe1",
              "IPY_MODEL_2ca3d9a3d31e49bab9302eaa67dbda49"
            ],
            "layout": "IPY_MODEL_c1e7786e4fb74e89ada996b0430f9db9"
          }
        },
        "c1e7786e4fb74e89ada996b0430f9db9": {
          "model_module": "@jupyter-widgets/base",
          "model_module_version": "1.2.0",
          "model_name": "LayoutModel",
          "state": {
            "_model_module": "@jupyter-widgets/base",
            "_model_module_version": "1.2.0",
            "_model_name": "LayoutModel",
            "_view_count": null,
            "_view_module": "@jupyter-widgets/base",
            "_view_module_version": "1.2.0",
            "_view_name": "LayoutView",
            "align_content": null,
            "align_items": null,
            "align_self": null,
            "border": null,
            "bottom": null,
            "display": null,
            "flex": null,
            "flex_flow": null,
            "grid_area": null,
            "grid_auto_columns": null,
            "grid_auto_flow": null,
            "grid_auto_rows": null,
            "grid_column": null,
            "grid_gap": null,
            "grid_row": null,
            "grid_template_areas": null,
            "grid_template_columns": null,
            "grid_template_rows": null,
            "height": null,
            "justify_content": null,
            "justify_items": null,
            "left": null,
            "margin": null,
            "max_height": null,
            "max_width": null,
            "min_height": null,
            "min_width": null,
            "object_fit": null,
            "object_position": null,
            "order": null,
            "overflow": null,
            "overflow_x": null,
            "overflow_y": null,
            "padding": null,
            "right": null,
            "top": null,
            "visibility": null,
            "width": null
          }
        },
        "c1f65d7d63124c30b4de8d140bccc982": {
          "model_module": "@jupyter-widgets/controls",
          "model_module_version": "1.5.0",
          "model_name": "HTMLModel",
          "state": {
            "_dom_classes": [],
            "_model_module": "@jupyter-widgets/controls",
            "_model_module_version": "1.5.0",
            "_model_name": "HTMLModel",
            "_view_count": null,
            "_view_module": "@jupyter-widgets/controls",
            "_view_module_version": "1.5.0",
            "_view_name": "HTMLView",
            "description": "",
            "description_tooltip": null,
            "layout": "IPY_MODEL_6857e1eae30141fbbc93fbb956547a20",
            "placeholder": "​",
            "style": "IPY_MODEL_f9bc250a44714f02af8f6dec30bb78c2",
            "value": "tokenizer.model: 100%"
          }
        },
        "c2d2ed13aad645b49241b6444354d93e": {
          "model_module": "@jupyter-widgets/base",
          "model_module_version": "1.2.0",
          "model_name": "LayoutModel",
          "state": {
            "_model_module": "@jupyter-widgets/base",
            "_model_module_version": "1.2.0",
            "_model_name": "LayoutModel",
            "_view_count": null,
            "_view_module": "@jupyter-widgets/base",
            "_view_module_version": "1.2.0",
            "_view_name": "LayoutView",
            "align_content": null,
            "align_items": null,
            "align_self": null,
            "border": null,
            "bottom": null,
            "display": null,
            "flex": null,
            "flex_flow": null,
            "grid_area": null,
            "grid_auto_columns": null,
            "grid_auto_flow": null,
            "grid_auto_rows": null,
            "grid_column": null,
            "grid_gap": null,
            "grid_row": null,
            "grid_template_areas": null,
            "grid_template_columns": null,
            "grid_template_rows": null,
            "height": null,
            "justify_content": null,
            "justify_items": null,
            "left": null,
            "margin": null,
            "max_height": null,
            "max_width": null,
            "min_height": null,
            "min_width": null,
            "object_fit": null,
            "object_position": null,
            "order": null,
            "overflow": null,
            "overflow_x": null,
            "overflow_y": null,
            "padding": null,
            "right": null,
            "top": null,
            "visibility": null,
            "width": null
          }
        },
        "c37c41fc7d7546f4b04efc22f78c0df7": {
          "model_module": "@jupyter-widgets/controls",
          "model_module_version": "1.5.0",
          "model_name": "DescriptionStyleModel",
          "state": {
            "_model_module": "@jupyter-widgets/controls",
            "_model_module_version": "1.5.0",
            "_model_name": "DescriptionStyleModel",
            "_view_count": null,
            "_view_module": "@jupyter-widgets/base",
            "_view_module_version": "1.2.0",
            "_view_name": "StyleView",
            "description_width": ""
          }
        },
        "c4539851cf384272bf1918350e9ce779": {
          "model_module": "@jupyter-widgets/base",
          "model_module_version": "1.2.0",
          "model_name": "LayoutModel",
          "state": {
            "_model_module": "@jupyter-widgets/base",
            "_model_module_version": "1.2.0",
            "_model_name": "LayoutModel",
            "_view_count": null,
            "_view_module": "@jupyter-widgets/base",
            "_view_module_version": "1.2.0",
            "_view_name": "LayoutView",
            "align_content": null,
            "align_items": null,
            "align_self": null,
            "border": null,
            "bottom": null,
            "display": null,
            "flex": null,
            "flex_flow": null,
            "grid_area": null,
            "grid_auto_columns": null,
            "grid_auto_flow": null,
            "grid_auto_rows": null,
            "grid_column": null,
            "grid_gap": null,
            "grid_row": null,
            "grid_template_areas": null,
            "grid_template_columns": null,
            "grid_template_rows": null,
            "height": null,
            "justify_content": null,
            "justify_items": null,
            "left": null,
            "margin": null,
            "max_height": null,
            "max_width": null,
            "min_height": null,
            "min_width": null,
            "object_fit": null,
            "object_position": null,
            "order": null,
            "overflow": null,
            "overflow_x": null,
            "overflow_y": null,
            "padding": null,
            "right": null,
            "top": null,
            "visibility": null,
            "width": null
          }
        },
        "c5621c4f8899401f835680b4f225aa46": {
          "model_module": "@jupyter-widgets/base",
          "model_module_version": "1.2.0",
          "model_name": "LayoutModel",
          "state": {
            "_model_module": "@jupyter-widgets/base",
            "_model_module_version": "1.2.0",
            "_model_name": "LayoutModel",
            "_view_count": null,
            "_view_module": "@jupyter-widgets/base",
            "_view_module_version": "1.2.0",
            "_view_name": "LayoutView",
            "align_content": null,
            "align_items": null,
            "align_self": null,
            "border": null,
            "bottom": null,
            "display": null,
            "flex": null,
            "flex_flow": null,
            "grid_area": null,
            "grid_auto_columns": null,
            "grid_auto_flow": null,
            "grid_auto_rows": null,
            "grid_column": null,
            "grid_gap": null,
            "grid_row": null,
            "grid_template_areas": null,
            "grid_template_columns": null,
            "grid_template_rows": null,
            "height": null,
            "justify_content": null,
            "justify_items": null,
            "left": null,
            "margin": null,
            "max_height": null,
            "max_width": null,
            "min_height": null,
            "min_width": null,
            "object_fit": null,
            "object_position": null,
            "order": null,
            "overflow": null,
            "overflow_x": null,
            "overflow_y": null,
            "padding": null,
            "right": null,
            "top": null,
            "visibility": null,
            "width": null
          }
        },
        "ca7e2d43a8474106ab2c63a48eeea2cb": {
          "model_module": "@jupyter-widgets/controls",
          "model_module_version": "1.5.0",
          "model_name": "DescriptionStyleModel",
          "state": {
            "_model_module": "@jupyter-widgets/controls",
            "_model_module_version": "1.5.0",
            "_model_name": "DescriptionStyleModel",
            "_view_count": null,
            "_view_module": "@jupyter-widgets/base",
            "_view_module_version": "1.2.0",
            "_view_name": "StyleView",
            "description_width": ""
          }
        },
        "caa9ba60786a47ceaa5478c5ee8b890b": {
          "model_module": "@jupyter-widgets/controls",
          "model_module_version": "1.5.0",
          "model_name": "HTMLModel",
          "state": {
            "_dom_classes": [],
            "_model_module": "@jupyter-widgets/controls",
            "_model_module_version": "1.5.0",
            "_model_name": "HTMLModel",
            "_view_count": null,
            "_view_module": "@jupyter-widgets/controls",
            "_view_module_version": "1.5.0",
            "_view_name": "HTMLView",
            "description": "",
            "description_tooltip": null,
            "layout": "IPY_MODEL_0f6557005b254496ad95876b804dbef4",
            "placeholder": "​",
            "style": "IPY_MODEL_329db929c245496cbfab7e8b5ea444f3",
            "value": "special_tokens_map.json: 100%"
          }
        },
        "d48be0726edd4c949fd99367e6d9fc74": {
          "model_module": "@jupyter-widgets/controls",
          "model_module_version": "1.5.0",
          "model_name": "ProgressStyleModel",
          "state": {
            "_model_module": "@jupyter-widgets/controls",
            "_model_module_version": "1.5.0",
            "_model_name": "ProgressStyleModel",
            "_view_count": null,
            "_view_module": "@jupyter-widgets/base",
            "_view_module_version": "1.2.0",
            "_view_name": "StyleView",
            "bar_color": null,
            "description_width": ""
          }
        },
        "dc593bfa04ed4c4c9d474e58057d5aa9": {
          "model_module": "@jupyter-widgets/controls",
          "model_module_version": "1.5.0",
          "model_name": "FloatProgressModel",
          "state": {
            "_dom_classes": [],
            "_model_module": "@jupyter-widgets/controls",
            "_model_module_version": "1.5.0",
            "_model_name": "FloatProgressModel",
            "_view_count": null,
            "_view_module": "@jupyter-widgets/controls",
            "_view_module_version": "1.5.0",
            "_view_name": "ProgressView",
            "bar_style": "success",
            "description": "",
            "description_tooltip": null,
            "layout": "IPY_MODEL_83cd59c74be342c0aa781958707eb82f",
            "max": 137,
            "min": 0,
            "orientation": "horizontal",
            "style": "IPY_MODEL_f5e40997d5db4110a62301dd2fb04a50",
            "value": 137
          }
        },
        "e0908111916c4f55bfaedb5c3a53c060": {
          "model_module": "@jupyter-widgets/base",
          "model_module_version": "1.2.0",
          "model_name": "LayoutModel",
          "state": {
            "_model_module": "@jupyter-widgets/base",
            "_model_module_version": "1.2.0",
            "_model_name": "LayoutModel",
            "_view_count": null,
            "_view_module": "@jupyter-widgets/base",
            "_view_module_version": "1.2.0",
            "_view_name": "LayoutView",
            "align_content": null,
            "align_items": null,
            "align_self": null,
            "border": null,
            "bottom": null,
            "display": null,
            "flex": null,
            "flex_flow": null,
            "grid_area": null,
            "grid_auto_columns": null,
            "grid_auto_flow": null,
            "grid_auto_rows": null,
            "grid_column": null,
            "grid_gap": null,
            "grid_row": null,
            "grid_template_areas": null,
            "grid_template_columns": null,
            "grid_template_rows": null,
            "height": null,
            "justify_content": null,
            "justify_items": null,
            "left": null,
            "margin": null,
            "max_height": null,
            "max_width": null,
            "min_height": null,
            "min_width": null,
            "object_fit": null,
            "object_position": null,
            "order": null,
            "overflow": null,
            "overflow_x": null,
            "overflow_y": null,
            "padding": null,
            "right": null,
            "top": null,
            "visibility": null,
            "width": null
          }
        },
        "e69a0331d44c4bb6b0c06d813250440a": {
          "model_module": "@jupyter-widgets/controls",
          "model_module_version": "1.5.0",
          "model_name": "HTMLModel",
          "state": {
            "_dom_classes": [],
            "_model_module": "@jupyter-widgets/controls",
            "_model_module_version": "1.5.0",
            "_model_name": "HTMLModel",
            "_view_count": null,
            "_view_module": "@jupyter-widgets/controls",
            "_view_module_version": "1.5.0",
            "_view_name": "HTMLView",
            "description": "",
            "description_tooltip": null,
            "layout": "IPY_MODEL_e0908111916c4f55bfaedb5c3a53c060",
            "placeholder": "​",
            "style": "IPY_MODEL_ffda50c961434e499a461870e6cc84c1",
            "value": "Loading checkpoint shards: 100%"
          }
        },
        "eb2bd723c86845d488325927e674f548": {
          "model_module": "@jupyter-widgets/controls",
          "model_module_version": "1.5.0",
          "model_name": "HBoxModel",
          "state": {
            "_dom_classes": [],
            "_model_module": "@jupyter-widgets/controls",
            "_model_module_version": "1.5.0",
            "_model_name": "HBoxModel",
            "_view_count": null,
            "_view_module": "@jupyter-widgets/controls",
            "_view_module_version": "1.5.0",
            "_view_name": "HBoxView",
            "box_style": "",
            "children": [
              "IPY_MODEL_c1f65d7d63124c30b4de8d140bccc982",
              "IPY_MODEL_77e706d1efa342708f6cc2cd108e653e",
              "IPY_MODEL_1c334575903644fdb0f02a1912b3fe7b"
            ],
            "layout": "IPY_MODEL_9513575924fb4e09811368a166772b76"
          }
        },
        "ebbd63343e3c4f7c995c17771189045d": {
          "model_module": "@jupyter-widgets/controls",
          "model_module_version": "1.5.0",
          "model_name": "ProgressStyleModel",
          "state": {
            "_model_module": "@jupyter-widgets/controls",
            "_model_module_version": "1.5.0",
            "_model_name": "ProgressStyleModel",
            "_view_count": null,
            "_view_module": "@jupyter-widgets/base",
            "_view_module_version": "1.2.0",
            "_view_name": "StyleView",
            "bar_color": null,
            "description_width": ""
          }
        },
        "f0a721f7b7954f1099e3b8ec4e161d63": {
          "model_module": "@jupyter-widgets/base",
          "model_module_version": "1.2.0",
          "model_name": "LayoutModel",
          "state": {
            "_model_module": "@jupyter-widgets/base",
            "_model_module_version": "1.2.0",
            "_model_name": "LayoutModel",
            "_view_count": null,
            "_view_module": "@jupyter-widgets/base",
            "_view_module_version": "1.2.0",
            "_view_name": "LayoutView",
            "align_content": null,
            "align_items": null,
            "align_self": null,
            "border": null,
            "bottom": null,
            "display": null,
            "flex": null,
            "flex_flow": null,
            "grid_area": null,
            "grid_auto_columns": null,
            "grid_auto_flow": null,
            "grid_auto_rows": null,
            "grid_column": null,
            "grid_gap": null,
            "grid_row": null,
            "grid_template_areas": null,
            "grid_template_columns": null,
            "grid_template_rows": null,
            "height": null,
            "justify_content": null,
            "justify_items": null,
            "left": null,
            "margin": null,
            "max_height": null,
            "max_width": null,
            "min_height": null,
            "min_width": null,
            "object_fit": null,
            "object_position": null,
            "order": null,
            "overflow": null,
            "overflow_x": null,
            "overflow_y": null,
            "padding": null,
            "right": null,
            "top": null,
            "visibility": null,
            "width": null
          }
        },
        "f43f6845c8b24f0db6171f973de15335": {
          "model_module": "@jupyter-widgets/controls",
          "model_module_version": "1.5.0",
          "model_name": "HBoxModel",
          "state": {
            "_dom_classes": [],
            "_model_module": "@jupyter-widgets/controls",
            "_model_module_version": "1.5.0",
            "_model_name": "HBoxModel",
            "_view_count": null,
            "_view_module": "@jupyter-widgets/controls",
            "_view_module_version": "1.5.0",
            "_view_name": "HBoxView",
            "box_style": "",
            "children": [
              "IPY_MODEL_e69a0331d44c4bb6b0c06d813250440a",
              "IPY_MODEL_6af97e803e3749ce947ee988bbf94b25",
              "IPY_MODEL_be3d04dda3384ae98efdbf0b4e0c6152"
            ],
            "layout": "IPY_MODEL_494dfee6a9ab4f1cab6d98ce4f982200"
          }
        },
        "f5b7ca09285d42a6a03167ab50c74103": {
          "model_module": "@jupyter-widgets/base",
          "model_module_version": "1.2.0",
          "model_name": "LayoutModel",
          "state": {
            "_model_module": "@jupyter-widgets/base",
            "_model_module_version": "1.2.0",
            "_model_name": "LayoutModel",
            "_view_count": null,
            "_view_module": "@jupyter-widgets/base",
            "_view_module_version": "1.2.0",
            "_view_name": "LayoutView",
            "align_content": null,
            "align_items": null,
            "align_self": null,
            "border": null,
            "bottom": null,
            "display": null,
            "flex": null,
            "flex_flow": null,
            "grid_area": null,
            "grid_auto_columns": null,
            "grid_auto_flow": null,
            "grid_auto_rows": null,
            "grid_column": null,
            "grid_gap": null,
            "grid_row": null,
            "grid_template_areas": null,
            "grid_template_columns": null,
            "grid_template_rows": null,
            "height": null,
            "justify_content": null,
            "justify_items": null,
            "left": null,
            "margin": null,
            "max_height": null,
            "max_width": null,
            "min_height": null,
            "min_width": null,
            "object_fit": null,
            "object_position": null,
            "order": null,
            "overflow": null,
            "overflow_x": null,
            "overflow_y": null,
            "padding": null,
            "right": null,
            "top": null,
            "visibility": null,
            "width": null
          }
        },
        "f5e40997d5db4110a62301dd2fb04a50": {
          "model_module": "@jupyter-widgets/controls",
          "model_module_version": "1.5.0",
          "model_name": "ProgressStyleModel",
          "state": {
            "_model_module": "@jupyter-widgets/controls",
            "_model_module_version": "1.5.0",
            "_model_name": "ProgressStyleModel",
            "_view_count": null,
            "_view_module": "@jupyter-widgets/base",
            "_view_module_version": "1.2.0",
            "_view_name": "StyleView",
            "bar_color": null,
            "description_width": ""
          }
        },
        "f6bcd48e85494787ab2308c2ad2fabe1": {
          "model_module": "@jupyter-widgets/controls",
          "model_module_version": "1.5.0",
          "model_name": "FloatProgressModel",
          "state": {
            "_dom_classes": [],
            "_model_module": "@jupyter-widgets/controls",
            "_model_module_version": "1.5.0",
            "_model_name": "FloatProgressModel",
            "_view_count": null,
            "_view_module": "@jupyter-widgets/controls",
            "_view_module_version": "1.5.0",
            "_view_name": "ProgressView",
            "bar_style": "success",
            "description": "",
            "description_tooltip": null,
            "layout": "IPY_MODEL_6fe04135db14494d9cf46422ee228aac",
            "max": 17518497,
            "min": 0,
            "orientation": "horizontal",
            "style": "IPY_MODEL_0cb94c63b7e64722b29eb86660ee7cd6",
            "value": 17518497
          }
        },
        "f7f800df8f634627a6b4fc1eefc99519": {
          "model_module": "@jupyter-widgets/controls",
          "model_module_version": "1.5.0",
          "model_name": "DescriptionStyleModel",
          "state": {
            "_model_module": "@jupyter-widgets/controls",
            "_model_module_version": "1.5.0",
            "_model_name": "DescriptionStyleModel",
            "_view_count": null,
            "_view_module": "@jupyter-widgets/base",
            "_view_module_version": "1.2.0",
            "_view_name": "StyleView",
            "description_width": ""
          }
        },
        "f9bc250a44714f02af8f6dec30bb78c2": {
          "model_module": "@jupyter-widgets/controls",
          "model_module_version": "1.5.0",
          "model_name": "DescriptionStyleModel",
          "state": {
            "_model_module": "@jupyter-widgets/controls",
            "_model_module_version": "1.5.0",
            "_model_name": "DescriptionStyleModel",
            "_view_count": null,
            "_view_module": "@jupyter-widgets/base",
            "_view_module_version": "1.2.0",
            "_view_name": "StyleView",
            "description_width": ""
          }
        },
        "fbfe92eab622445ebbf21f7f4813d45c": {
          "model_module": "@jupyter-widgets/controls",
          "model_module_version": "1.5.0",
          "model_name": "DescriptionStyleModel",
          "state": {
            "_model_module": "@jupyter-widgets/controls",
            "_model_module_version": "1.5.0",
            "_model_name": "DescriptionStyleModel",
            "_view_count": null,
            "_view_module": "@jupyter-widgets/base",
            "_view_module_version": "1.2.0",
            "_view_name": "StyleView",
            "description_width": ""
          }
        },
        "ffda50c961434e499a461870e6cc84c1": {
          "model_module": "@jupyter-widgets/controls",
          "model_module_version": "1.5.0",
          "model_name": "DescriptionStyleModel",
          "state": {
            "_model_module": "@jupyter-widgets/controls",
            "_model_module_version": "1.5.0",
            "_model_name": "DescriptionStyleModel",
            "_view_count": null,
            "_view_module": "@jupyter-widgets/base",
            "_view_module_version": "1.2.0",
            "_view_name": "StyleView",
            "description_width": ""
          }
        }
      }
    }
  },
  "nbformat": 4,
  "nbformat_minor": 0
}
